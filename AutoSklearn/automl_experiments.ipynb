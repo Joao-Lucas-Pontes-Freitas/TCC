{
 "cells": [
  {
   "cell_type": "code",
   "execution_count": null,
   "id": "1569059e",
   "metadata": {},
   "outputs": [
    {
     "name": "stderr",
     "output_type": "stream",
     "text": [
      "/home/joao/miniconda3/envs/as-env/lib/python3.9/site-packages/sklearn/utils/fixes.py:28: UserWarning: pkg_resources is deprecated as an API. See https://setuptools.pypa.io/en/latest/pkg_resources.html. The pkg_resources package is slated for removal as early as 2025-11-30. Refrain from using this package or pin to Setuptools<81.\n",
      "  from pkg_resources import parse_version  # type: ignore\n"
     ]
    }
   ],
   "source": [
    "import json, time, pathlib\n",
    "import matplotlib.pyplot as plt\n",
    "\n",
    "from pprint import pprint\n",
    "\n",
    "import sklearn.datasets\n",
    "import sklearn.metrics\n",
    "\n",
    "import autosklearn.classification"
   ]
  },
  {
   "cell_type": "markdown",
   "id": "115c3a60",
   "metadata": {},
   "source": [
    "# Escolha do Dataset + Parâmetros Experimentos"
   ]
  },
  {
   "cell_type": "code",
   "execution_count": null,
   "id": "ebfdbbf7",
   "metadata": {},
   "outputs": [],
   "source": [
    "dataset_name = \"iris\"\n",
    "\n",
    "X, y = sklearn.datasets.load_iris(return_X_y=True)\n",
    "X_train, X_test, y_train, y_test = sklearn.model_selection.train_test_split(\n",
    "    X, y, random_state=1\n",
    ")\n",
    "\n",
    "limit = 60 * 1 # 1 minute"
   ]
  },
  {
   "cell_type": "markdown",
   "id": "e05e7dc9",
   "metadata": {},
   "source": [
    "# Definição dos Experimentos"
   ]
  },
  {
   "cell_type": "code",
   "execution_count": 4,
   "id": "022a845e",
   "metadata": {},
   "outputs": [
    {
     "ename": "ModuleNotFoundError",
     "evalue": "No module named 'AutoSklearn'",
     "output_type": "error",
     "traceback": [
      "\u001b[0;31m---------------------------------------------------------------------------\u001b[0m",
      "\u001b[0;31mModuleNotFoundError\u001b[0m                       Traceback (most recent call last)",
      "Cell \u001b[0;32mIn[4], line 2\u001b[0m\n\u001b[1;32m      1\u001b[0m \u001b[38;5;28;01mfrom\u001b[39;00m\u001b[38;5;250m \u001b[39m\u001b[38;5;21;01mmultiprocessing\u001b[39;00m\u001b[38;5;250m \u001b[39m\u001b[38;5;28;01mimport\u001b[39;00m Pool\n\u001b[0;32m----> 2\u001b[0m \u001b[38;5;28;01mfrom\u001b[39;00m\u001b[38;5;250m \u001b[39m\u001b[38;5;21;01mAutoSklearn\u001b[39;00m\u001b[38;5;21;01m.\u001b[39;00m\u001b[38;5;21;01mwithout_ensemble\u001b[39;00m\u001b[38;5;250m \u001b[39m\u001b[38;5;28;01mimport\u001b[39;00m without_ensemble_experiment\n\u001b[1;32m      3\u001b[0m \u001b[38;5;28;01mfrom\u001b[39;00m\u001b[38;5;250m \u001b[39m\u001b[38;5;21;01mAutoSklearn\u001b[39;00m\u001b[38;5;21;01m.\u001b[39;00m\u001b[38;5;21;01mwith_ensemble\u001b[39;00m\u001b[38;5;250m \u001b[39m\u001b[38;5;28;01mimport\u001b[39;00m with_ensemble_experiment\n\u001b[1;32m      5\u001b[0m \u001b[38;5;28;01mdef\u001b[39;00m\u001b[38;5;250m \u001b[39m\u001b[38;5;21mhandle_result\u001b[39m(result):\n\u001b[1;32m      6\u001b[0m     \u001b[38;5;66;03m# Aqui você processa o resultado assim que ele chega,\u001b[39;00m\n\u001b[1;32m      7\u001b[0m     \u001b[38;5;66;03m# mesmo que o outro experimento ainda esteja rodando.\u001b[39;00m\n",
      "\u001b[0;31mModuleNotFoundError\u001b[0m: No module named 'AutoSklearn'"
     ]
    }
   ],
   "source": [
    "from multiprocessing import Pool\n",
    "from AutoSklearn.without_ensemble import without_ensemble_experiment\n",
    "from AutoSklearn.with_ensemble import with_ensemble_experiment\n",
    "\n",
    "def handle_result(result):\n",
    "    # Aqui você processa o resultado assim que ele chega,\n",
    "    # mesmo que o outro experimento ainda esteja rodando.\n",
    "    predictions = result.predict(X_test)\n",
    "    print(\"Accuracy score:\", sklearn.metrics.accuracy_score(y_test, predictions))\n",
    "\n",
    "\n",
    "\n",
    "with Pool(processes=2) as pool:\n",
    "    # dispara sem bloquear, e registra uma função de callback\n",
    "    pool.apply_async(\n",
    "        without_ensemble_experiment,\n",
    "        args=(X_train, y_train, limit, dataset_name),\n",
    "        callback=handle_result\n",
    "    )\n",
    "    pool.apply_async(\n",
    "        with_ensemble_experiment,\n",
    "        args=(X_train, y_train, limit, dataset_name),\n",
    "        callback=handle_result\n",
    "    )\n",
    "\n",
    "    # fecha o pool para novas tarefas, mas mantém vivo\n",
    "    pool.close()\n",
    "    # aqui o main vai “esperar” pelas callbacks, mas não bloqueia\n",
    "    # ponto a ponto: handle_result roda assim que cada job acabar\n",
    "    pool.join()\n"
   ]
  }
 ],
 "metadata": {
  "kernelspec": {
   "display_name": "as-env",
   "language": "python",
   "name": "python3"
  },
  "language_info": {
   "codemirror_mode": {
    "name": "ipython",
    "version": 3
   },
   "file_extension": ".py",
   "mimetype": "text/x-python",
   "name": "python",
   "nbconvert_exporter": "python",
   "pygments_lexer": "ipython3",
   "version": "3.9.23"
  }
 },
 "nbformat": 4,
 "nbformat_minor": 5
}
