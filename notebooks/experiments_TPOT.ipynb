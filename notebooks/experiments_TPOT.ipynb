{
 "cells": [
  {
   "cell_type": "code",
   "execution_count": 8,
   "id": "0eec5f93",
   "metadata": {},
   "outputs": [
    {
     "data": {
      "text/plain": [
       "((133, 13), (45, 13), (133,), (45,))"
      ]
     },
     "execution_count": 8,
     "metadata": {},
     "output_type": "execute_result"
    }
   ],
   "source": [
    "import sklearn\n",
    "from pathlib import Path\n",
    "import shutil\n",
    "\n",
    "# %% Configurações de dataset\n",
    "DATASET_NAME = 'wine'\n",
    "RANDOM_STATE = 1\n",
    "\n",
    "# %% Carregamento\n",
    "# X, y = sklearn.datasets.fetch_openml(name=DATASET_NAME, version=1, return_X_y=True, as_frame=True)\n",
    "X, y = sklearn.datasets.load_wine(return_X_y=True, as_frame=True)\n",
    "\n",
    "# %% Split\n",
    "X_train, X_test, y_train, y_test = sklearn.model_selection.train_test_split(\n",
    "    X, y, random_state=RANDOM_STATE, stratify=y\n",
    ")\n",
    "\n",
    "# %% Diretórios temporários\n",
    "TMP_ROOT = Path('../results/tmp') / DATASET_NAME\n",
    "if TMP_ROOT.exists():\n",
    "    shutil.rmtree(TMP_ROOT)\n",
    "\n",
    "X_train.shape, X_test.shape, y_train.shape, y_test.shape"
   ]
  },
  {
   "cell_type": "code",
   "execution_count": 9,
   "id": "fa17d26f",
   "metadata": {},
   "outputs": [],
   "source": [
    "from tpot import TPOTClassifier\n",
    "from tpot import objectives\n",
    "import time\n",
    "\n",
    "def run_tpot(early_stop=20, max_time_mins=float('inf'), warm_start=False, search_space=\"linear\"):\n",
    "    scorer = sklearn.metrics.get_scorer('f1_weighted')\n",
    "\n",
    "    tpot = TPOTClassifier(\n",
    "        search_space=search_space,\n",
    "        scorers=[scorer, objectives.complexity_scorer],\n",
    "        scorers_weights=[1.0, -1.0],\n",
    "        cv = 10,\n",
    "        memory= str(TMP_ROOT / 'memory'),\n",
    "        preprocessing= True,\n",
    "        max_time_mins=max_time_mins,\n",
    "        n_jobs=1,\n",
    "        validation_strategy='split',\n",
    "        early_stop=early_stop,\n",
    "        warm_start=warm_start,\n",
    "        periodic_checkpoint_folder= str(TMP_ROOT / 'checkpoints'),\n",
    "        verbose=4,\n",
    "        random_state=RANDOM_STATE,\n",
    "    )\n",
    "    start = time.time()\n",
    "    tpot.fit(X_train, y_train)\n",
    "    return tpot, time.time() - start"
   ]
  },
  {
   "cell_type": "code",
   "execution_count": 10,
   "id": "5361885d",
   "metadata": {},
   "outputs": [],
   "source": [
    "import os\n",
    "import sys\n",
    "from datetime import datetime\n",
    "from sklearn.base import clone\n",
    "\n",
    "sys.path.insert(0, os.path.abspath(os.path.join('..', 'src')))\n",
    "\n",
    "from metrics import evaluate_metrics\n",
    "from serialize import serialize_tpot\n",
    "\n",
    "def build_document(tpot, elapsed):\n",
    "    \"\"\"\n",
    "    Gera um dicionário com métricas dos melhores modelos encontrados pelo TPOT.\n",
    "    Mantém:\n",
    "      - 'pareto_complexity': métricas do menor 'complexity_scorer' (desempate por maior 'f1_score')\n",
    "      - 'pareto_f1': métricas do maior 'f1_score' (desempate por menor 'complexity_scorer')\n",
    "      - 'best_model': métricas do tpot.fitted_pipeline_ \n",
    "    \"\"\"\n",
    "\n",
    "    best_model = tpot.fitted_pipeline_\n",
    "    model = serialize_tpot(best_model)\n",
    "    metrics = evaluate_metrics(best_model, X_test, y_test)\n",
    "    metrics['complexity_scorer'] = objectives.complexity_scorer(best_model, X_test, y_test)\n",
    "    \n",
    "    # Estrutura base do resultado\n",
    "    result = {\n",
    "        'timeStamp': datetime.now().strftime('%Y-%m-%d %H:%M:%S'),\n",
    "        'time_spent': elapsed,\n",
    "        'dataset': DATASET_NAME,\n",
    "        'automl': 'tpot',\n",
    "        'models': {\n",
    "            'fitted': model,\n",
    "        },\n",
    "        'metrics': {\n",
    "            'fitted': metrics, \n",
    "        }   \n",
    "    }\n",
    "    \n",
    "    # Verifica se existe Pareto front válido\n",
    "    df = tpot.pareto_front\n",
    "    if df is None or len(df) == 0:\n",
    "        return result\n",
    "    \n",
    "    # Filtrar linhas válidas\n",
    "    df_valid = df[\n",
    "        df[\"Eval Error\"].isna() &\n",
    "        df[\"complexity_scorer\"].notna() &\n",
    "        df[\"f1_score\"].notna() &\n",
    "        df[\"Instance\"].notna()\n",
    "    ]\n",
    "    \n",
    "    if df_valid.empty:\n",
    "        return result\n",
    "    \n",
    "    # Selecionar e treinar modelo de menor complexidade\n",
    "    best_complexity = df_valid.sort_values([\"complexity_scorer\", \"f1_score\"], ascending=[True, False]).iloc[0]\n",
    "    model = clone(best_complexity[\"Instance\"])\n",
    "    model.fit(X_train, y_train)\n",
    "    result['models']['pareto_complexity'] = serialize_tpot(model)\n",
    "    result['metrics']['pareto_complexity'] = evaluate_metrics(model, X_test, y_test)\n",
    "    result['metrics']['pareto_complexity']['complexity_scorer'] = int(best_complexity[\"complexity_scorer\"])\n",
    "    \n",
    "    # Selecionar e treinar modelo de maior F1\n",
    "    best_f1 = df_valid.sort_values([\"f1_score\", \"complexity_scorer\"], ascending=[False, True]).iloc[0]\n",
    "    model = clone(best_f1[\"Instance\"])\n",
    "    model.fit(X_train, y_train)\n",
    "    result['models']['pareto_f1'] = serialize_tpot(model)\n",
    "    result['metrics']['pareto_f1'] = evaluate_metrics(model, X_test, y_test)\n",
    "    result['metrics']['pareto_f1']['complexity_scorer'] = int(best_f1[\"complexity_scorer\"])\n",
    "    \n",
    "    return result"
   ]
  },
  {
   "cell_type": "markdown",
   "id": "e7862fad",
   "metadata": {},
   "source": [
    "## Experimentos"
   ]
  },
  {
   "cell_type": "code",
   "execution_count": null,
   "id": "9cc83357",
   "metadata": {},
   "outputs": [
    {
     "name": "stderr",
     "output_type": "stream",
     "text": [
      "Generation: : 0it [00:00, ?it/s]"
     ]
    },
    {
     "name": "stdout",
     "output_type": "stream",
     "text": [
      "Generation:  1\n",
      "Best f1_score score: 0.9719624819624819\n",
      "Best complexity_scorer score: 7.0\n"
     ]
    },
    {
     "name": "stderr",
     "output_type": "stream",
     "text": [
      "Generation: : 1it [01:13, 73.20s/it]"
     ]
    },
    {
     "name": "stdout",
     "output_type": "stream",
     "text": [
      "Generation:  2\n",
      "Best f1_score score: 0.981962481962482\n",
      "Best complexity_scorer score: 7.0\n"
     ]
    },
    {
     "name": "stderr",
     "output_type": "stream",
     "text": [
      "Generation: : 2it [02:41, 81.90s/it]"
     ]
    },
    {
     "name": "stdout",
     "output_type": "stream",
     "text": [
      "Generation:  3\n",
      "Best f1_score score: 0.981962481962482\n",
      "Best complexity_scorer score: 7.0\n"
     ]
    },
    {
     "name": "stderr",
     "output_type": "stream",
     "text": [
      "Generation: : 3it [04:23, 91.16s/it]"
     ]
    },
    {
     "name": "stdout",
     "output_type": "stream",
     "text": [
      "Generation:  4\n",
      "Best f1_score score: 0.9910533910533911\n",
      "Best complexity_scorer score: 7.0\n"
     ]
    },
    {
     "name": "stderr",
     "output_type": "stream",
     "text": [
      "Generation: : 4it [06:15, 99.30s/it]"
     ]
    },
    {
     "name": "stdout",
     "output_type": "stream",
     "text": [
      "Generation:  5\n",
      "Best f1_score score: 0.9910533910533911\n",
      "Best complexity_scorer score: 7.0\n"
     ]
    },
    {
     "name": "stderr",
     "output_type": "stream",
     "text": [
      "Generation: : 5it [07:52, 98.46s/it]"
     ]
    },
    {
     "name": "stdout",
     "output_type": "stream",
     "text": [
      "Generation:  6\n",
      "Best f1_score score: 0.9910533910533911\n",
      "Best complexity_scorer score: 7.0\n"
     ]
    },
    {
     "name": "stderr",
     "output_type": "stream",
     "text": [
      "Generation: : 6it [09:50, 105.16s/it]"
     ]
    },
    {
     "name": "stdout",
     "output_type": "stream",
     "text": [
      "Generation:  7\n",
      "Best f1_score score: 0.9910533910533911\n",
      "Best complexity_scorer score: 7.0\n"
     ]
    },
    {
     "name": "stderr",
     "output_type": "stream",
     "text": [
      "Generation: : 7it [11:33, 104.39s/it]"
     ]
    },
    {
     "name": "stdout",
     "output_type": "stream",
     "text": [
      "Generation:  8\n",
      "Best f1_score score: 0.9910533910533911\n",
      "Best complexity_scorer score: 7.0\n"
     ]
    },
    {
     "name": "stderr",
     "output_type": "stream",
     "text": [
      "Generation: : 8it [13:27, 107.67s/it]"
     ]
    },
    {
     "name": "stdout",
     "output_type": "stream",
     "text": [
      "Generation:  9\n",
      "Best f1_score score: 0.9910533910533911\n",
      "Best complexity_scorer score: 7.0\n"
     ]
    },
    {
     "name": "stderr",
     "output_type": "stream",
     "text": [
      "Generation: : 9it [15:15, 107.53s/it]"
     ]
    },
    {
     "name": "stdout",
     "output_type": "stream",
     "text": [
      "Generation:  10\n",
      "Best f1_score score: 0.9910533910533911\n",
      "Best complexity_scorer score: 7.0\n"
     ]
    },
    {
     "name": "stderr",
     "output_type": "stream",
     "text": [
      "Generation: : 10it [17:35, 117.70s/it]"
     ]
    },
    {
     "name": "stdout",
     "output_type": "stream",
     "text": [
      "KeyboardInterrupt\n"
     ]
    }
   ],
   "source": [
    "tpot, elapsed = run_tpot()\n",
    "document = build_document(tpot, elapsed)"
   ]
  },
  {
   "cell_type": "code",
   "execution_count": null,
   "id": "7a840427",
   "metadata": {},
   "outputs": [
    {
     "data": {
      "text/plain": [
       "'6894b20723eeb7f002d6e7e0'"
      ]
     },
     "execution_count": 5,
     "metadata": {},
     "output_type": "execute_result"
    }
   ],
   "source": [
    "from mongo import mongo_insert\n",
    "\n",
    "mongo_insert(document)"
   ]
  },
  {
   "cell_type": "code",
   "execution_count": null,
   "id": "e4c77050",
   "metadata": {},
   "outputs": [
    {
     "data": {
      "image/png": "[encoded data removed]",
      "text/plain": [
       "<Figure size 500x500 with 1 Axes>"
      ]
     },
     "metadata": {},
     "output_type": "display_data"
    },
    {
     "data": {
      "image/png": "[encoded data removed]",
      "text/plain": [
       "<Figure size 1000x500 with 1 Axes>"
      ]
     },
     "metadata": {},
     "output_type": "display_data"
    }
   ],
   "source": [
    "import seaborn as sns\n",
    "import matplotlib.pyplot as plt\n",
    "#replace nans in pareto front with 0\n",
    "\n",
    "df = tpot.evaluated_individuals\n",
    "metric = 'f1_score'\n",
    "\n",
    "fig, ax = plt.subplots(figsize=(5,5))\n",
    "sns.scatterplot(df[df['Pareto_Front']!=1], x=metric, y='complexity_scorer', label='other', ax=ax)\n",
    "sns.scatterplot(df[df['Pareto_Front']==1], x=metric, y='complexity_scorer', label='Pareto Front', ax=ax)\n",
    "ax.title.set_text('Performance of all pipelines')\n",
    "#log scale y\n",
    "ax.set_yscale('log')\n",
    "plt.show()\n",
    "\n",
    "#replace nans in pareto front with 0\n",
    "fig, ax = plt.subplots(figsize=(10,5))\n",
    "sns.scatterplot(df[df['Pareto_Front']==1], x=metric, y='complexity_scorer', label='Pareto Front', ax=ax)\n",
    "ax.title.set_text('Performance of only the Pareto Front')\n",
    "#log scale y\n",
    "# ax.set_yscale('log')\n",
    "plt.show()"
   ]
  },
  {
   "cell_type": "code",
   "execution_count": null,
   "id": "4ef5ad00",
   "metadata": {},
   "outputs": [
    {
     "data": {
      "image/png": "[encoded data removed]",
      "text/plain": [
       "<Figure size 1000x500 with 1 Axes>"
      ]
     },
     "metadata": {},
     "output_type": "display_data"
    }
   ],
   "source": [
    "import numpy as np\n",
    "\n",
    "#get columns where roc_auc_score is not NaN\n",
    "scores_and_times = df[df[metric].notna()][[metric, 'Completed Timestamp']].sort_values('Completed Timestamp', ascending=True).to_numpy()\n",
    "\n",
    "#get best score at a given time\n",
    "best_scores = np.maximum.accumulate(scores_and_times[:,0])\n",
    "times = scores_and_times[:,1]\n",
    "times = times - df['Submitted Timestamp'].min()\n",
    "\n",
    "fig, ax = plt.subplots(figsize=(10,5))\n",
    "ax.plot(times, best_scores)\n",
    "ax.set_xlabel('Time (seconds)')\n",
    "ax.set_ylabel('Best Score')\n",
    "plt.show()\n"
   ]
  }
 ],
 "metadata": {
  "kernelspec": {
   "display_name": "tpotenv",
   "language": "python",
   "name": "python3"
  },
  "language_info": {
   "codemirror_mode": {
    "name": "ipython",
    "version": 3
   },
   "file_extension": ".py",
   "mimetype": "text/x-python",
   "name": "python",
   "nbconvert_exporter": "python",
   "pygments_lexer": "ipython3",
   "version": "3.10.18"
  }
 },
 "nbformat": 4,
 "nbformat_minor": 5
}
