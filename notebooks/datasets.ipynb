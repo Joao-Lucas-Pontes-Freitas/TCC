{
 "cells": [
  {
   "cell_type": "code",
   "execution_count": 7,
   "id": "09e24a96",
   "metadata": {},
   "outputs": [],
   "source": [
    "import re, unicodedata\n",
    "\n",
    "def sanitize_cols(cols, max_len=128):\n",
    "    seen = {}\n",
    "    out = []\n",
    "    for i, c in enumerate(cols):\n",
    "        s = unicodedata.normalize('NFKD', str(c)).encode('ascii', 'ignore').decode('ascii')  # remove acentos\n",
    "        s = s.strip().lower()\n",
    "        s = re.sub(r'[\\s\\-]+', '_', s)                 # espaços e hífens -> _\n",
    "        s = re.sub(r'[^0-9a-z_]', '_', s)              # só [a-z0-9_]\n",
    "        s = re.sub(r'_+', '_', s).strip('_')           # colapsa múltiplos _\n",
    "        if not s:                                      # vazio -> \"col\"\n",
    "            s = 'col'\n",
    "        if s[0].isdigit() or s[0] == '_':             # não iniciar por dígito nem \"_\"\n",
    "            s = f'col_{s}'\n",
    "        s = s[:max_len]                                # limita comprimento\n",
    "        base = s                                       # deduplicação estável\n",
    "        k = seen.get(base, 0)\n",
    "        if k:\n",
    "            s = f'{base}_{k}'\n",
    "        seen[base] = k + 1\n",
    "        out.append(s)\n",
    "    return out"
   ]
  },
  {
   "cell_type": "code",
   "execution_count": null,
   "id": "02a6f1a0",
   "metadata": {},
   "outputs": [
    {
     "data": {
      "text/plain": [
       "Index(['word_freq_make', 'word_freq_address', 'word_freq_all', 'word_freq_3d',\n",
       "       'word_freq_our', 'word_freq_over', 'word_freq_remove',\n",
       "       'word_freq_internet', 'word_freq_order', 'word_freq_mail',\n",
       "       'word_freq_receive', 'word_freq_will', 'word_freq_people',\n",
       "       'word_freq_report', 'word_freq_addresses', 'word_freq_free',\n",
       "       'word_freq_business', 'word_freq_email', 'word_freq_you',\n",
       "       'word_freq_credit', 'word_freq_your', 'word_freq_font', 'word_freq_000',\n",
       "       'word_freq_money', 'word_freq_hp', 'word_freq_hpl', 'word_freq_george',\n",
       "       'word_freq_650', 'word_freq_lab', 'word_freq_labs', 'word_freq_telnet',\n",
       "       'word_freq_857', 'word_freq_data', 'word_freq_415', 'word_freq_85',\n",
       "       'word_freq_technology', 'word_freq_1999', 'word_freq_parts',\n",
       "       'word_freq_pm', 'word_freq_direct', 'word_freq_cs', 'word_freq_meeting',\n",
       "       'word_freq_original', 'word_freq_project', 'word_freq_re',\n",
       "       'word_freq_edu', 'word_freq_table', 'word_freq_conference',\n",
       "       'char_freq_;', 'char_freq_(', 'char_freq_[', 'char_freq_!',\n",
       "       'char_freq_$', 'char_freq_#', 'capital_run_length_average',\n",
       "       'capital_run_length_longest', 'capital_run_length_total'],\n",
       "      dtype='object')"
      ]
     },
     "execution_count": 11,
     "metadata": {},
     "output_type": "execute_result"
    }
   ],
   "source": [
    "from ucimlrepo import fetch_ucirepo \n",
    "import pandas as pd\n",
    "  \n",
    "# fetch dataset \n",
    "spambase = fetch_ucirepo(id=94) \n",
    "  \n",
    "# data (as pandas dataframes) \n",
    "X = pd.DataFrame(spambase.data.features)\n",
    "y = pd.DataFrame(spambase.data.targets)\n",
    "\n",
    "X.columns = sanitize_cols(X.columns)\n",
    "y.columns = sanitize_cols(y.columns)"
   ]
  },
  {
   "cell_type": "code",
   "execution_count": 9,
   "id": "10ff2d47",
   "metadata": {},
   "outputs": [
    {
     "data": {
      "text/plain": [
       "((3450, 57), (1151, 57), (3450, 1), (1151, 1))"
      ]
     },
     "execution_count": 9,
     "metadata": {},
     "output_type": "execute_result"
    }
   ],
   "source": [
    "import sklearn\n",
    "from pathlib import Path\n",
    "import shutil\n",
    "\n",
    "# %% Configurações de dataset\n",
    "DATASET_NAME = 'Spambase'\n",
    "RANDOM_STATE = 1\n",
    "\n",
    "# %% Split\n",
    "X_train, X_test, y_train, y_test = sklearn.model_selection.train_test_split(\n",
    "    X, y, random_state=RANDOM_STATE, stratify=y\n",
    ")\n",
    "\n",
    "# %% Diretórios temporários\n",
    "TMP_ROOT = Path('../results/tmp') / DATASET_NAME\n",
    "if TMP_ROOT.exists():\n",
    "    shutil.rmtree(TMP_ROOT)\n",
    "\n",
    "X_train.shape, X_test.shape, y_train.shape, y_test.shape"
   ]
  },
  {
   "cell_type": "code",
   "execution_count": null,
   "id": "9eee4eaf",
   "metadata": {},
   "outputs": [],
   "source": [
    "test_df = X_test.copy()\n",
    "test_df['target'] = y_test\n",
    "destino = '../data/' + DATASET_NAME + '_test.csv'\n",
    "test_df.to_csv(destino, index=False)\n",
    "\n",
    "train_df = X_train.copy()\n",
    "train_df['target'] = y_train\n",
    "destino = '../data/' + DATASET_NAME + '_train.csv'\n",
    "train_df.to_csv(destino, index=False) "
   ]
  },
  {
   "cell_type": "code",
   "execution_count": 15,
   "id": "f8231bf9",
   "metadata": {},
   "outputs": [],
   "source": [
    "from ucimlrepo import fetch_ucirepo \n",
    "import pandas as pd\n",
    "import sklearn\n",
    "from pathlib import Path\n",
    "import shutil\n",
    "\n",
    "# fetch dataset \n",
    "dataset = fetch_ucirepo(id=697) \n",
    "  \n",
    "# data (as pandas dataframes) \n",
    "X = pd.DataFrame(dataset.data.features)\n",
    "y = pd.DataFrame(dataset.data.targets)\n",
    "\n",
    "X.columns = sanitize_cols(X.columns)\n",
    "y.columns = sanitize_cols(y.columns)\n",
    "\n",
    "# %% Configurações de dataset\n",
    "DATASET_NAME = 'AcademicSuccess'\n",
    "RANDOM_STATE = 1\n",
    "\n",
    "# %% Split\n",
    "X_train, X_test, y_train, y_test = sklearn.model_selection.train_test_split(\n",
    "    X, y, random_state=RANDOM_STATE, stratify=y\n",
    ")\n",
    "\n",
    "# %% Diretórios temporários\n",
    "TMP_ROOT = Path('../results/tmp') / DATASET_NAME\n",
    "if TMP_ROOT.exists():\n",
    "    shutil.rmtree(TMP_ROOT)\n",
    "\n",
    "X_train.shape, X_test.shape, y_train.shape, y_test.shape\n",
    "\n",
    "test_df = X_test.copy()\n",
    "test_df['target'] = y_test\n",
    "destino = '../data/' + DATASET_NAME + '_test.csv'\n",
    "test_df.to_csv(destino, index=False)\n",
    "\n",
    "train_df = X_train.copy()\n",
    "train_df['target'] = y_train\n",
    "destino = '../data/' + DATASET_NAME + '_train.csv'\n",
    "train_df.to_csv(destino, index=False) "
   ]
  }
 ],
 "metadata": {
  "kernelspec": {
   "display_name": "tpotenv",
   "language": "python",
   "name": "python3"
  },
  "language_info": {
   "codemirror_mode": {
    "name": "ipython",
    "version": 3
   },
   "file_extension": ".py",
   "mimetype": "text/x-python",
   "name": "python",
   "nbconvert_exporter": "python",
   "pygments_lexer": "ipython3",
   "version": "3.10.18"
  }
 },
 "nbformat": 4,
 "nbformat_minor": 5
}
