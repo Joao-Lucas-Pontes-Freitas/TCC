{
 "cells": [
  {
   "cell_type": "code",
   "execution_count": 1,
   "id": "3948e183",
   "metadata": {},
   "outputs": [
    {
     "name": "stderr",
     "output_type": "stream",
     "text": [
      "/home/joao/miniconda3/envs/as-env/lib/python3.9/site-packages/sklearn/utils/fixes.py:28: UserWarning: pkg_resources is deprecated as an API. See https://setuptools.pypa.io/en/latest/pkg_resources.html. The pkg_resources package is slated for removal as early as 2025-11-30. Refrain from using this package or pin to Setuptools<81.\n",
      "  from pkg_resources import parse_version  # type: ignore\n"
     ]
    }
   ],
   "source": [
    "import json, time, pathlib\n",
    "import pandas as pd\n",
    "import matplotlib.pyplot as plt\n",
    "import concurrent.futures\n",
    "\n",
    "from pprint import pprint\n",
    "\n",
    "import sklearn.datasets\n",
    "import sklearn.metrics\n",
    "from sklearn.inspection import plot_partial_dependence, permutation_importance\n",
    "from sklearn.model_selection import train_test_split\n",
    "\n",
    "import autosklearn.classification\n",
    "\n",
    "import concurrent.futures\n",
    "import time\n",
    "\n",
    "import sys, os\n",
    "\n",
    "sys.path.insert(0, os.path.abspath(os.path.join('..', 'src')))\n",
    "\n",
    "from AutoSklearn.with_ensemble import with_ensemble_experiment\n",
    "from AutoSklearn.without_ensemble import without_ensemble_experiment\n"
   ]
  },
  {
   "cell_type": "code",
   "execution_count": 2,
   "id": "37415fee",
   "metadata": {},
   "outputs": [],
   "source": [
    "df = pd.read_csv('../data/IMDB Dataset.csv')\n",
    "X = df.drop(columns=['sentiment'])\n",
    "y = df['sentiment']\n",
    "\n",
    "X_train, X_test, y_train, y_test = train_test_split(X, y, test_size=0.2, random_state=42)"
   ]
  },
  {
   "cell_type": "code",
   "execution_count": 6,
   "id": "7f25e1a0",
   "metadata": {},
   "outputs": [
    {
     "data": {
      "text/html": [
       "<div>\n",
       "<style scoped>\n",
       "    .dataframe tbody tr th:only-of-type {\n",
       "        vertical-align: middle;\n",
       "    }\n",
       "\n",
       "    .dataframe tbody tr th {\n",
       "        vertical-align: top;\n",
       "    }\n",
       "\n",
       "    .dataframe thead th {\n",
       "        text-align: right;\n",
       "    }\n",
       "</style>\n",
       "<table border=\"1\" class=\"dataframe\">\n",
       "  <thead>\n",
       "    <tr style=\"text-align: right;\">\n",
       "      <th></th>\n",
       "      <th>review</th>\n",
       "      <th>sentiment</th>\n",
       "    </tr>\n",
       "  </thead>\n",
       "  <tbody>\n",
       "    <tr>\n",
       "      <th>0</th>\n",
       "      <td>One of the other reviewers has mentioned that ...</td>\n",
       "      <td>positive</td>\n",
       "    </tr>\n",
       "    <tr>\n",
       "      <th>1</th>\n",
       "      <td>A wonderful little production. &lt;br /&gt;&lt;br /&gt;The...</td>\n",
       "      <td>positive</td>\n",
       "    </tr>\n",
       "    <tr>\n",
       "      <th>2</th>\n",
       "      <td>I thought this was a wonderful way to spend ti...</td>\n",
       "      <td>positive</td>\n",
       "    </tr>\n",
       "    <tr>\n",
       "      <th>3</th>\n",
       "      <td>Basically there's a family where a little boy ...</td>\n",
       "      <td>negative</td>\n",
       "    </tr>\n",
       "    <tr>\n",
       "      <th>4</th>\n",
       "      <td>Petter Mattei's \"Love in the Time of Money\" is...</td>\n",
       "      <td>positive</td>\n",
       "    </tr>\n",
       "  </tbody>\n",
       "</table>\n",
       "</div>"
      ],
      "text/plain": [
       "                                              review sentiment\n",
       "0  One of the other reviewers has mentioned that ...  positive\n",
       "1  A wonderful little production. <br /><br />The...  positive\n",
       "2  I thought this was a wonderful way to spend ti...  positive\n",
       "3  Basically there's a family where a little boy ...  negative\n",
       "4  Petter Mattei's \"Love in the Time of Money\" is...  positive"
      ]
     },
     "execution_count": 6,
     "metadata": {},
     "output_type": "execute_result"
    }
   ],
   "source": [
    "df.head()"
   ]
  },
  {
   "cell_type": "code",
   "execution_count": 3,
   "id": "c8d758b8",
   "metadata": {},
   "outputs": [],
   "source": [
    "time_limit = 60 * 45  # 60 * número de minutos\n",
    "dataset_name = 'IMDB'\n",
    "tmp_path = pathlib.Path('../results/tmp/' + dataset_name)"
   ]
  },
  {
   "cell_type": "code",
   "execution_count": 4,
   "id": "cc197014",
   "metadata": {},
   "outputs": [
    {
     "name": "stdout",
     "output_type": "stream",
     "text": [
      "Iniciando experimento COM ensemble...\n",
      "Iniciando experimento SEM ensemble...\n"
     ]
    },
    {
     "name": "stderr",
     "output_type": "stream",
     "text": [
      "/home/joao/miniconda3/envs/as-env/lib/python3.9/site-packages/autosklearn/data/feature_validator.py:318: UserWarning: Input Column review has generic type object. Autosklearn will treat this column as string. Please ensure that this setting is suitable for your task.\n",
      "  warnings.warn(\n",
      "/home/joao/miniconda3/envs/as-env/lib/python3.9/site-packages/autosklearn/data/feature_validator.py:318: UserWarning: Input Column review has generic type object. Autosklearn will treat this column as string. Please ensure that this setting is suitable for your task.\n",
      "  warnings.warn(\n"
     ]
    },
    {
     "name": "stdout",
     "output_type": "stream",
     "text": [
      "[WARNING] [2025-07-11 14:38:55,180:Client-EnsembleBuilder] No runs were available to build an ensemble from\n",
      "[WARNING] [2025-07-11 14:38:56,697:Client-EnsembleBuilder] No runs were available to build an ensemble from\n",
      "[WARNING] [2025-07-11 14:38:56,697:Client-EnsembleBuilder] No runs were available to build an ensemble from\n",
      "SEM ensemble concluído!\n"
     ]
    },
    {
     "name": "stderr",
     "output_type": "stream",
     "text": [
      "/home/joao/miniconda3/envs/as-env/lib/python3.9/site-packages/autosklearn/automl.py:1860: FutureWarning: DataFrame.fillna with 'method' is deprecated and will raise in a future version. Use obj.ffill() or obj.bfill() instead.\n",
      "  pd.merge(\n"
     ]
    },
    {
     "name": "stdout",
     "output_type": "stream",
     "text": [
      "COM ensemble concluído!\n"
     ]
    },
    {
     "name": "stderr",
     "output_type": "stream",
     "text": [
      "/home/joao/miniconda3/envs/as-env/lib/python3.9/site-packages/autosklearn/automl.py:1860: FutureWarning: DataFrame.fillna with 'method' is deprecated and will raise in a future version. Use obj.ffill() or obj.bfill() instead.\n",
      "  pd.merge(\n"
     ]
    },
    {
     "name": "stdout",
     "output_type": "stream",
     "text": [
      "Todos os experimentos concluídos em 2743.87 segundos\n"
     ]
    },
    {
     "data": {
      "image/png": "[encoded data removed]",
      "text/plain": [
       "<Figure size 640x480 with 1 Axes>"
      ]
     },
     "metadata": {},
     "output_type": "display_data"
    },
    {
     "data": {
      "image/png": "[encoded data removed]",
      "text/plain": [
       "<Figure size 640x480 with 1 Axes>"
      ]
     },
     "metadata": {},
     "output_type": "display_data"
    }
   ],
   "source": [
    "start_time = time.time()\n",
    "\n",
    "results = {}\n",
    "\n",
    "def process_result(experiment_name, automl_model):\n",
    "    \"\"\"Processa o resultado quando a thread termina\"\"\"\n",
    "    print(f\"{experiment_name} concluído!\")\n",
    "    \n",
    "    predictions = automl_model.predict(X_test)\n",
    "    accuracy = sklearn.metrics.accuracy_score(y_test, predictions)\n",
    "    \n",
    "    results[experiment_name] = {\n",
    "        'model': automl_model,\n",
    "        'accuracy': accuracy,\n",
    "        'predictions': predictions\n",
    "    }\n",
    "\n",
    "    df = automl_model.performance_over_time_\n",
    "    df.plot(x='Timestamp', y='single_best_optimization_score', kind='line')\n",
    "    \n",
    "    with open('../results/results.txt', 'a') as f:  \n",
    "        if experiment_name == 'COM ensemble':\n",
    "            f.write(f\"{dataset_name} - With ensemble:\\n\")\n",
    "        else:\n",
    "            f.write(f\"{dataset_name} - Without ensemble:\\n\")\n",
    "        f.write(f\"Accuracy score: {accuracy}\\n\")\n",
    "        elapsed_time = time.time() - start_time\n",
    "        minutes = int(elapsed_time // 60)\n",
    "        seconds = int(elapsed_time % 60)\n",
    "        f.write(f\"Finished in: {minutes}m and {seconds}s\\n\\n\")\n",
    "\n",
    "\n",
    "with concurrent.futures.ThreadPoolExecutor(max_workers=2) as executor:\n",
    "    print(\"Iniciando experimento COM ensemble...\")\n",
    "    future_with = executor.submit(\n",
    "        with_ensemble_experiment, \n",
    "        X_train, y_train, time_limit, dataset_name, tmp_path / 'with_ensemble'\n",
    "    )\n",
    "    \n",
    "    print(\"Iniciando experimento SEM ensemble...\")\n",
    "    future_without = executor.submit(\n",
    "        without_ensemble_experiment, \n",
    "        X_train, y_train, time_limit, dataset_name, tmp_path / 'without_ensemble'\n",
    "    )\n",
    "\n",
    "    for future in concurrent.futures.as_completed([future_with, future_without]):\n",
    "        if future == future_with:\n",
    "            automl_with_ensemble = future.result()\n",
    "            process_result(\"COM ensemble\", automl_with_ensemble)\n",
    "        else:\n",
    "            automl_without_ensemble = future.result()\n",
    "            process_result(\"SEM ensemble\", automl_without_ensemble)\n",
    "\n",
    "total_time = time.time() - start_time\n",
    "print(f\"Todos os experimentos concluídos em {total_time:.2f} segundos\")"
   ]
  },
  {
   "cell_type": "code",
   "execution_count": 7,
   "id": "3fc1ea0e",
   "metadata": {},
   "outputs": [
    {
     "name": "stdout",
     "output_type": "stream",
     "text": [
      "Resultado para SEM ensemble teve acurácia de 0.85\n",
      "Construção do modelo:\n",
      "{   4: {   'balancing': Balancing(random_state=1),\n",
      "           'classifier': <autosklearn.pipeline.components.classification.ClassifierChoice object at 0x757cc8a25f10>,\n",
      "           'cost': 0.1459848484848485,\n",
      "           'data_preprocessor': <autosklearn.pipeline.components.data_preprocessing.DataPreprocessorChoice object at 0x757d58ee6a60>,\n",
      "           'ensemble_weight': 1.0,\n",
      "           'feature_preprocessor': <autosklearn.pipeline.components.feature_preprocessing.FeaturePreprocessorChoice object at 0x757cc8a25e50>,\n",
      "           'model_id': 4,\n",
      "           'rank': 1,\n",
      "           'sklearn_classifier': MLPClassifier(activation='tanh', alpha=3.542372581884717e-07, beta_1=0.999,\n",
      "              beta_2=0.9, hidden_layer_sizes=(54, 54),\n",
      "              learning_rate_init=0.00016753718126302934, max_iter=32,\n",
      "              n_iter_no_change=32, random_state=1, validation_fraction=0.0,\n",
      "              verbose=0, warm_start=True)}}\n",
      "\n",
      "Resultado para COM ensemble teve acurácia de 0.86\n",
      "Construção do modelo:\n",
      "{   3: {   'balancing': Balancing(random_state=1, strategy='weighting'),\n",
      "           'classifier': <autosklearn.pipeline.components.classification.ClassifierChoice object at 0x757d58c46a90>,\n",
      "           'cost': 0.15083333333333337,\n",
      "           'data_preprocessor': <autosklearn.pipeline.components.data_preprocessing.DataPreprocessorChoice object at 0x757d58c46b50>,\n",
      "           'ensemble_weight': 0.28,\n",
      "           'feature_preprocessor': <autosklearn.pipeline.components.feature_preprocessing.FeaturePreprocessorChoice object at 0x757d58c46880>,\n",
      "           'model_id': 3,\n",
      "           'rank': 1,\n",
      "           'sklearn_classifier': HistGradientBoostingClassifier(early_stopping=False,\n",
      "                               l2_regularization=1.0945814167023392e-10,\n",
      "                               learning_rate=0.11042628136263043, max_iter=512,\n",
      "                               max_leaf_nodes=30, min_samples_leaf=22,\n",
      "                               n_iter_no_change=0, random_state=1,\n",
      "                               validation_fraction=None, warm_start=True)},\n",
      "    4: {   'balancing': Balancing(random_state=1),\n",
      "           'classifier': <autosklearn.pipeline.components.classification.ClassifierChoice object at 0x757d58dc16d0>,\n",
      "           'cost': 0.1459848484848485,\n",
      "           'data_preprocessor': <autosklearn.pipeline.components.data_preprocessing.DataPreprocessorChoice object at 0x757d58bdc4f0>,\n",
      "           'ensemble_weight': 0.18,\n",
      "           'feature_preprocessor': <autosklearn.pipeline.components.feature_preprocessing.FeaturePreprocessorChoice object at 0x757d58dc1520>,\n",
      "           'model_id': 4,\n",
      "           'rank': 2,\n",
      "           'sklearn_classifier': MLPClassifier(activation='tanh', alpha=3.542372581884717e-07, beta_1=0.999,\n",
      "              beta_2=0.9, hidden_layer_sizes=(54, 54),\n",
      "              learning_rate_init=0.00016753718126302934, max_iter=32,\n",
      "              n_iter_no_change=32, random_state=1, validation_fraction=0.0,\n",
      "              verbose=0, warm_start=True)},\n",
      "    5: {   'balancing': Balancing(random_state=1),\n",
      "           'classifier': <autosklearn.pipeline.components.classification.ClassifierChoice object at 0x757cc8a25850>,\n",
      "           'cost': 0.15090909090909088,\n",
      "           'data_preprocessor': <autosklearn.pipeline.components.data_preprocessing.DataPreprocessorChoice object at 0x757d58be64f0>,\n",
      "           'ensemble_weight': 0.24,\n",
      "           'feature_preprocessor': <autosklearn.pipeline.components.feature_preprocessing.FeaturePreprocessorChoice object at 0x757d58ee64c0>,\n",
      "           'model_id': 5,\n",
      "           'rank': 3,\n",
      "           'sklearn_classifier': MLPClassifier(alpha=0.0013962942610192463, beta_1=0.999, beta_2=0.9,\n",
      "              early_stopping=True, hidden_layer_sizes=(29,),\n",
      "              learning_rate_init=0.001358401370818654, max_iter=64,\n",
      "              n_iter_no_change=32, random_state=1, verbose=0, warm_start=True)},\n",
      "    6: {   'balancing': Balancing(random_state=1),\n",
      "           'classifier': <autosklearn.pipeline.components.classification.ClassifierChoice object at 0x757cc88e45b0>,\n",
      "           'cost': 0.1770454545454545,\n",
      "           'data_preprocessor': <autosklearn.pipeline.components.data_preprocessing.DataPreprocessorChoice object at 0x757cc8b0fe20>,\n",
      "           'ensemble_weight': 0.02,\n",
      "           'feature_preprocessor': <autosklearn.pipeline.components.feature_preprocessing.FeaturePreprocessorChoice object at 0x757cc88e44f0>,\n",
      "           'model_id': 6,\n",
      "           'rank': 4,\n",
      "           'sklearn_classifier': MLPClassifier(activation='tanh', alpha=0.05476322473700896, beta_1=0.999,\n",
      "              beta_2=0.9, early_stopping=True, hidden_layer_sizes=(136,),\n",
      "              learning_rate_init=0.012698439797907473, max_iter=64,\n",
      "              n_iter_no_change=32, random_state=1, verbose=0, warm_start=True)},\n",
      "    9: {   'balancing': Balancing(random_state=1, strategy='weighting'),\n",
      "           'classifier': <autosklearn.pipeline.components.classification.ClassifierChoice object at 0x757cbd11bc70>,\n",
      "           'cost': 0.14613636363636362,\n",
      "           'data_preprocessor': <autosklearn.pipeline.components.data_preprocessing.DataPreprocessorChoice object at 0x757d58d79550>,\n",
      "           'ensemble_weight': 0.28,\n",
      "           'feature_preprocessor': <autosklearn.pipeline.components.feature_preprocessing.FeaturePreprocessorChoice object at 0x757cbd11bbb0>,\n",
      "           'model_id': 9,\n",
      "           'rank': 5,\n",
      "           'sklearn_classifier': MLPClassifier(activation='tanh', alpha=1.0207902638359607e-07, beta_1=0.999,\n",
      "              beta_2=0.9, hidden_layer_sizes=(229,),\n",
      "              learning_rate_init=0.0005867144594731152, max_iter=32,\n",
      "              n_iter_no_change=32, random_state=1, validation_fraction=0.0,\n",
      "              verbose=0, warm_start=True)}}\n",
      "\n"
     ]
    }
   ],
   "source": [
    "for result in results:\n",
    "    print(f\"Resultado para {result} teve acurácia de {results[result]['accuracy']:.2f}\")\n",
    "    print(\"Construção do modelo:\")\n",
    "    pprint(results[result]['model'].show_models(), indent=4)\n",
    "    print()\n"
   ]
  }
 ],
 "metadata": {
  "kernelspec": {
   "display_name": "as-env",
   "language": "python",
   "name": "python3"
  },
  "language_info": {
   "codemirror_mode": {
    "name": "ipython",
    "version": 3
   },
   "file_extension": ".py",
   "mimetype": "text/x-python",
   "name": "python",
   "nbconvert_exporter": "python",
   "pygments_lexer": "ipython3",
   "version": "3.9.23"
  }
 },
 "nbformat": 4,
 "nbformat_minor": 5
}
