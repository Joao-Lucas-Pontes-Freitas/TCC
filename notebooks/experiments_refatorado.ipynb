{
 "cells": [
  {
   "cell_type": "markdown",
   "id": "74fce523",
   "metadata": {},
   "source": [
    "# 1. Configuração de Ambiente\n",
    "\n",
    "Imports agrupados por tipo e carregamento das variáveis de ambiente.\n"
   ]
  },
  {
   "cell_type": "code",
   "execution_count": 46,
   "id": "79266e93",
   "metadata": {},
   "outputs": [],
   "source": [
    "# %% Imports padrão\n",
    "import os\n",
    "import sys\n",
    "from pathlib import Path\n",
    "from datetime import datetime\n",
    "import json\n",
    "import shutil\n",
    "import time\n",
    "\n",
    "# %% Imports de Data Science\n",
    "import numpy as np\n",
    "import pandas as pd\n",
    "import matplotlib.pyplot as plt\n",
    "from sklearn import datasets, metrics, model_selection\n",
    "\n",
    "# %% Imports Auto-sklearn\n",
    "import autosklearn.classification\n",
    "import autosklearn.metrics\n",
    "\n",
    "# %% Imports Banco de Dados\n",
    "from pymongo import MongoClient\n",
    "\n",
    "# %% Variáveis de ambiente / paths\n",
    "sys.path.insert(0, os.path.abspath(os.path.join('..', 'src')))\n",
    "from dotenv import load_dotenv\n",
    "load_dotenv(dotenv_path='../.env')\n",
    "\n",
    "MONGO_URI = os.getenv('MONGODB_CONNECTION_STRING')\n",
    "MONGO_DB = os.getenv('MONGODB_DB')\n",
    "MONGO_COLLECTION = os.getenv('MONGODB_COLLECTION')"
   ]
  },
  {
   "cell_type": "markdown",
   "id": "496155cf",
   "metadata": {},
   "source": [
    "# 2. Carregamento e Pré-processamento de Dados\n",
    "\n",
    "Carrega o dataset (definido por variável), divide em treino e teste e prepara diretórios temporários.\n"
   ]
  },
  {
   "cell_type": "code",
   "execution_count": 47,
   "id": "6bf0166e",
   "metadata": {},
   "outputs": [],
   "source": [
    "# %% Configurações de dataset\n",
    "DATASET_NAME = 'iris'\n",
    "RANDOM_STATE = 1\n",
    "\n",
    "# %% Carregamento\n",
    "X, y = datasets.fetch_openml(name=DATASET_NAME, version=1, return_X_y=True, as_frame=True)\n",
    "\n",
    "# %% Split\n",
    "X_train, X_test, y_train, y_test = model_selection.train_test_split(\n",
    "    X, y, random_state=RANDOM_STATE, stratify=y\n",
    ")\n",
    "\n",
    "# %% Diretórios temporários\n",
    "TMP_ROOT = Path('../results/tmp') / DATASET_NAME\n",
    "if TMP_ROOT.exists():\n",
    "    shutil.rmtree(TMP_ROOT)"
   ]
  },
  {
   "cell_type": "markdown",
   "id": "3f385756",
   "metadata": {},
   "source": [
    "# 3. Configuração e Execução do AutoSklearn\n",
    "\n",
    "Funções utilitárias para rodar o AutoSklearn com ou sem ensemble e coletar informações essenciais do processo.\n"
   ]
  },
  {
   "cell_type": "code",
   "execution_count": 48,
   "id": "2a894083",
   "metadata": {},
   "outputs": [],
   "source": [
    "# %% Parâmetros Auto-sklearn\n",
    "TIME_LIMIT_SEC = 60 * 1\n",
    "METRIC_SK = autosklearn.metrics.f1_weighted\n",
    "\n",
    "def run_autosklearn(with_ensemble: bool, tmp_dir: Path):\n",
    "    automl = autosklearn.classification.AutoSklearnClassifier(\n",
    "        time_left_for_this_task=TIME_LIMIT_SEC,\n",
    "        per_run_time_limit=int(TIME_LIMIT_SEC / 10),\n",
    "        tmp_folder=str(tmp_dir),\n",
    "        seed=RANDOM_STATE,\n",
    "        metric=METRIC_SK,\n",
    "        ensemble_kwargs={'ensemble_size': 50 if with_ensemble else 1}\n",
    "    )\n",
    "    automl.fit(X_train, y_train)\n",
    "    return automl\n",
    "\n",
    "def extract_leaderboard(automl):\n",
    "    lb = automl.leaderboard(detailed=True, ensemble_only=True).sort_values('ensemble_weight', ascending=False)\n",
    "    return lb.reset_index(drop=True)\n",
    "\n",
    "def serialize_models(automl, leaderboard_df):\n",
    "    def serialize_param(value):\n",
    "        \"\"\"Converte parâmetros para tipos serializáveis\"\"\"\n",
    "        if value is None:\n",
    "            return None\n",
    "        elif isinstance(value, (int, float, str, bool)):\n",
    "            return value\n",
    "        elif isinstance(value, np.number):\n",
    "            return float(value)\n",
    "        elif isinstance(value, (list, tuple)):\n",
    "            return [serialize_param(v) for v in value]\n",
    "        elif isinstance(value, dict):\n",
    "            return {k: serialize_param(v) for k, v in value.items()}\n",
    "        else:\n",
    "            # Para objetos complexos, tenta converter para string\n",
    "            return str(value)\n",
    "    \n",
    "    models_serialized = []\n",
    "    for (_, row), (weight, pipeline) in zip(\n",
    "        leaderboard_df.iterrows(),\n",
    "        automl.get_models_with_weights()\n",
    "    ):\n",
    "        steps_info = {}\n",
    "        for name, step in pipeline.steps:\n",
    "            estimator = step.choice if hasattr(step, 'choice') else step\n",
    "            \n",
    "            # Obtém todos os parâmetros\n",
    "            try:\n",
    "                raw_params = estimator.get_params(deep=False)\n",
    "            except AttributeError:\n",
    "                raw_params = {}\n",
    "            \n",
    "            filtered_params = {}\n",
    "            for k, v in raw_params.items():\n",
    "                try:\n",
    "                    filtered_params[k] = serialize_param(v)\n",
    "                except Exception as e:\n",
    "                    filtered_params[k] = {\"_error\": str(e), \"_type\": type(v).__name__}\n",
    "            \n",
    "            steps_info[name] = {\n",
    "                'algorithm': estimator.__class__.__name__,\n",
    "                'parameters': filtered_params\n",
    "            }\n",
    "\n",
    "        models_serialized.append({\n",
    "            'weight': float(weight),\n",
    "            'cost':   float(row['cost']),\n",
    "            'classifier':          steps_info.get('classifier', {}),\n",
    "            'data_preprocessor':   steps_info.get('data_preprocessor', {}),\n",
    "            'feature_preprocessor':steps_info.get('feature_preprocessor', {})\n",
    "        })\n",
    "\n",
    "    return {\n",
    "        'total_models': len(models_serialized),\n",
    "        'models':       models_serialized\n",
    "    }"
   ]
  },
  {
   "cell_type": "markdown",
   "id": "1e0a1719",
   "metadata": {},
   "source": [
    "# 4. Avaliação de Métricas\n",
    "\n",
    "Calcula métricas principais, matriz de confusão normalizada, gera dados para curva de aprendizado e evolução temporal.\n"
   ]
  },
  {
   "cell_type": "code",
   "execution_count": 49,
   "id": "ca5f743e",
   "metadata": {},
   "outputs": [],
   "source": [
    "def evaluate_metrics(automl):\n",
    "    y_pred = automl.predict(X_test)\n",
    "    accuracy = metrics.accuracy_score(y_test, y_pred)\n",
    "    precision = metrics.precision_score(y_test, y_pred, average='weighted', zero_division=0)\n",
    "    recall = metrics.recall_score(y_test, y_pred, average='weighted', zero_division=0)\n",
    "    f1w = metrics.f1_score(y_test, y_pred, average='weighted', zero_division=0)\n",
    "    cm = metrics.confusion_matrix(y_test, y_pred, normalize='true').tolist()\n",
    "    return {\n",
    "        'accuracy': float(accuracy),\n",
    "        'precision': float(precision),\n",
    "        'recall': float(recall),\n",
    "        'balanced_f1': float(f1w),\n",
    "        'confusion_matrix': cm\n",
    "    }\n",
    "\n",
    "def collect_performance_over_time(automl):\n",
    "    df = automl.performance_over_time_.copy()\n",
    "    cols = [c for c in df.columns if c not in ('num_models_trained',)]\n",
    "    result = {}\n",
    "    for c in cols:\n",
    "        if c == 'Timestamp':\n",
    "            # Converte timestamps string iso\n",
    "            result[c] = [ts.isoformat() for ts in df[c]]\n",
    "        else:\n",
    "            result[c] = df[c].tolist()\n",
    "    return result\n",
    "\n",
    "def compute_learning_curve(estimator, X_tr, y_tr, scoring):\n",
    "    sizes, train_scores, val_scores = model_selection.learning_curve(\n",
    "        estimator, X_tr, y_tr, cv=5, scoring=scoring, n_jobs=1,\n",
    "        train_sizes=np.linspace(0.1, 1.0, 5), shuffle=True, random_state=RANDOM_STATE\n",
    "    )\n",
    "    return {\n",
    "        'train_sizes': sizes.tolist(),\n",
    "        'train_scores_mean': np.mean(train_scores, axis=1).tolist(),\n",
    "        'val_scores_mean': np.mean(val_scores, axis=1).tolist()\n",
    "    }\n"
   ]
  },
  {
   "cell_type": "markdown",
   "id": "59fefa8d",
   "metadata": {},
   "source": [
    "# 5. Salvamento dos Resultados no MongoDB\n",
    "\n",
    "Constrói o documento JSON final (no padrão especificado) e insere na coleção MongoDB.\n"
   ]
  },
  {
   "cell_type": "code",
   "execution_count": 50,
   "id": "6f6f5291",
   "metadata": {},
   "outputs": [],
   "source": [
    "def build_document(automl, leaderboard_df, with_ensemble: bool):\n",
    "    metrics_obj = evaluate_metrics(automl)\n",
    "    model_obj = serialize_models(automl, leaderboard_df)\n",
    "    perf_time = collect_performance_over_time(automl)\n",
    "    #lc_data = compute_learning_curve(automl, X_train, y_train, scoring='f1_weighted')\n",
    "    return {\n",
    "        'timeStamp': datetime.now().astimezone().isoformat(),\n",
    "        'dataset': DATASET_NAME,\n",
    "        'automl': 'autosklearn',\n",
    "        'with_ensemble': with_ensemble,\n",
    "        'metrics': metrics_obj,\n",
    "        'model': {\n",
    "            **model_obj,\n",
    "            'graphic': {\n",
    "                'performance_over_time': perf_time,\n",
    "                'learning_curve': None\n",
    "            }\n",
    "        }\n",
    "    }\n",
    "\n",
    "def mongo_insert(doc: dict):\n",
    "    client = None\n",
    "    try:\n",
    "        client = MongoClient(MONGO_URI, serverSelectionTimeoutMS=5000)\n",
    "        collection = client[MONGO_DB][MONGO_COLLECTION]\n",
    "        res = collection.insert_one(doc)\n",
    "        return str(res.inserted_id)\n",
    "    except Exception as e:\n",
    "        print(f\"Erro ao inserir no MongoDB: {e}\")\n",
    "        return None\n",
    "    finally:\n",
    "        if client:\n",
    "            client.close()\n"
   ]
  },
  {
   "cell_type": "markdown",
   "id": "9fdff30d",
   "metadata": {},
   "source": [
    "# Execução\n",
    "\n",
    "Roda com e sem ensemble, monta documentos e insere no MongoDB.\n"
   ]
  },
  {
   "cell_type": "code",
   "execution_count": 51,
   "id": "15cf2713",
   "metadata": {},
   "outputs": [
    {
     "name": "stderr",
     "output_type": "stream",
     "text": [
      "/home/joao/miniconda3/envs/as-env/lib/python3.9/site-packages/autosklearn/data/target_validator.py:187: UserWarning: Fitting transformer with a pandas series which has the dtype category. Inverse transform may not be able preserve dtype when converting to np.ndarray\n",
      "  warnings.warn(\n",
      "/home/joao/miniconda3/envs/as-env/lib/python3.9/site-packages/autosklearn/data/target_validator.py:187: UserWarning: Fitting transformer with a pandas series which has the dtype category. Inverse transform may not be able preserve dtype when converting to np.ndarray\n",
      "  warnings.warn(\n",
      "/home/joao/miniconda3/envs/as-env/lib/python3.9/site-packages/autosklearn/automl.py:1860: FutureWarning: DataFrame.fillna with 'method' is deprecated and will raise in a future version. Use obj.ffill() or obj.bfill() instead.\n",
      "  pd.merge(\n",
      "/home/joao/miniconda3/envs/as-env/lib/python3.9/site-packages/autosklearn/automl.py:1860: FutureWarning: DataFrame.fillna with 'method' is deprecated and will raise in a future version. Use obj.ffill() or obj.bfill() instead.\n",
      "  pd.merge(\n"
     ]
    },
    {
     "name": "stdout",
     "output_type": "stream",
     "text": [
      "Tempo total: 56.7s\n"
     ]
    },
    {
     "data": {
      "text/plain": [
       "dict_keys(['without_ensemble', 'with_ensemble'])"
      ]
     },
     "execution_count": 51,
     "metadata": {},
     "output_type": "execute_result"
    }
   ],
   "source": [
    "# %% Execução paralela limpa\n",
    "import concurrent.futures, time, warnings, logging\n",
    "\n",
    "warnings.filterwarnings(\"ignore\", message=\".*cost of smaller/equal to 0.*\")\n",
    "\n",
    "def workflow(with_ens: bool, label: str):\n",
    "    folder = TMP_ROOT / label\n",
    "    automl = run_autosklearn(with_ens, folder)\n",
    "    lb     = extract_leaderboard(automl)\n",
    "    doc    = build_document(automl, lb, with_ens)\n",
    "    mongo  = mongo_insert(doc)\n",
    "    return label, {'doc': doc, 'mongo_id': mongo, 'automl': automl, 'leaderboard': lb}\n",
    "\n",
    "start = time.time()\n",
    "RESULTS = {}\n",
    "\n",
    "with concurrent.futures.ProcessPoolExecutor(max_workers=2) as pool:\n",
    "    futures = [\n",
    "        pool.submit(workflow, True , 'with_ensemble'),\n",
    "        pool.submit(workflow, False, 'without_ensemble')\n",
    "    ]\n",
    "    for fut in concurrent.futures.as_completed(futures):\n",
    "        label, data = fut.result()\n",
    "        RESULTS[label] = data\n",
    "\n",
    "print(f'Tempo total: {time.time()-start:.1f}s')\n",
    "RESULTS.keys()"
   ]
  },
  {
   "cell_type": "code",
   "execution_count": null,
   "id": "4a10e8da",
   "metadata": {},
   "outputs": [],
   "source": []
  },
  {
   "cell_type": "markdown",
   "id": "03d4a87d",
   "metadata": {},
   "source": [
    "# Visualizações\n",
    "\n"
   ]
  },
  {
   "cell_type": "code",
   "execution_count": 52,
   "id": "ffbb3f6c",
   "metadata": {},
   "outputs": [
    {
     "data": {
      "image/png": "[encoded data removed]",
      "text/plain": [
       "<Figure size 1200x800 with 1 Axes>"
      ]
     },
     "metadata": {},
     "output_type": "display_data"
    }
   ],
   "source": [
    "# Plot comparativo - todas as curvas em um único gráfico\n",
    "plt.figure(figsize=(12, 8))\n",
    "\n",
    "for label, item in RESULTS.items():\n",
    "    perf = item['doc']['model']['graphic']['performance_over_time']\n",
    "    \n",
    "    # Converter timestamps para formato numérico (segundos desde o início)\n",
    "    timestamps = pd.to_datetime(perf['Timestamp'], format='ISO8601')\n",
    "    time_seconds = (timestamps - timestamps[0]).total_seconds()\n",
    "    \n",
    "    # Plot do ensemble optimization score\n",
    "    if 'ensemble_optimization_score' in perf:\n",
    "        ensemble_scores = np.array(perf['ensemble_optimization_score'])\n",
    "        valid_mask = ~np.isnan(ensemble_scores)\n",
    "        \n",
    "        plt.plot(\n",
    "            time_seconds[valid_mask], \n",
    "            ensemble_scores[valid_mask], \n",
    "            label=f'Ensemble - {label.replace(\"_\", \" \").title()}',\n",
    "            linewidth=2,\n",
    "            marker='o',\n",
    "            markersize=4\n",
    "        )\n",
    "\n",
    "plt.title('Comparativo de Performance - AutoSklearn', fontsize=14, fontweight='bold')\n",
    "plt.xlabel('Tempo (s)', fontsize=12)\n",
    "plt.ylabel('F1 Weighted Score', fontsize=12)\n",
    "plt.legend(fontsize=10)\n",
    "plt.grid(True, alpha=0.3)\n",
    "plt.ylim(0.8, 1.0)\n",
    "plt.tight_layout()\n",
    "plt.show()"
   ]
  }
 ],
 "metadata": {
  "kernelspec": {
   "display_name": "as-env",
   "language": "python",
   "name": "python3"
  },
  "language_info": {
   "codemirror_mode": {
    "name": "ipython",
    "version": 3
   },
   "file_extension": ".py",
   "mimetype": "text/x-python",
   "name": "python",
   "nbconvert_exporter": "python",
   "pygments_lexer": "ipython3",
   "version": "3.9.23"
  }
 },
 "nbformat": 4,
 "nbformat_minor": 5
}
