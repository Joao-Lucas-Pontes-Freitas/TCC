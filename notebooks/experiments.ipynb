{
 "cells": [
  {
   "cell_type": "markdown",
   "id": "9b56b262",
   "metadata": {},
   "source": [
    "## Setup"
   ]
  },
  {
   "cell_type": "code",
   "execution_count": 5,
   "id": "70bb2f04",
   "metadata": {},
   "outputs": [],
   "source": [
    "import json, time, pathlib\n",
    "import matplotlib.pyplot as plt\n",
    "import concurrent.futures\n",
    "\n",
    "from pprint import pprint\n",
    "\n",
    "import sklearn.datasets\n",
    "import sklearn.metrics\n",
    "from sklearn.inspection import plot_partial_dependence, permutation_importance\n",
    "\n",
    "import autosklearn.classification\n",
    "\n",
    "import concurrent.futures\n",
    "import time\n",
    "\n",
    "import sys, os\n",
    "\n",
    "sys.path.insert(0, os.path.abspath(os.path.join('..', 'src')))\n",
    "\n",
    "from AutoSklearn.with_ensemble import with_ensemble_experiment\n",
    "from AutoSklearn.without_ensemble import without_ensemble_experiment\n"
   ]
  },
  {
   "cell_type": "markdown",
   "id": "7107d40d",
   "metadata": {},
   "source": [
    "## Load Dataset"
   ]
  },
  {
   "cell_type": "code",
   "execution_count": 6,
   "id": "700db29f",
   "metadata": {},
   "outputs": [
    {
     "data": {
      "text/plain": [
       "((112, 4), (112,), (38, 4), (38,))"
      ]
     },
     "execution_count": 6,
     "metadata": {},
     "output_type": "execute_result"
    }
   ],
   "source": [
    "dataset_name = 'iris'\n",
    "\n",
    "X, y = sklearn.datasets.fetch_openml(name=dataset_name, version=1, return_X_y=True, as_frame=True)\n",
    "X_train, X_test, y_train, y_test = sklearn.model_selection.train_test_split(\n",
    "    X, y, random_state=1\n",
    ")\n",
    "X_train.shape, y_train.shape, X_test.shape, y_test.shape"
   ]
  },
  {
   "cell_type": "markdown",
   "id": "8e6e2cbc",
   "metadata": {},
   "source": [
    "## Experiments Parameters"
   ]
  },
  {
   "cell_type": "code",
   "execution_count": 7,
   "id": "e13ffd54",
   "metadata": {},
   "outputs": [],
   "source": [
    "time_limit = 60 * 5  # 60 * número de minutos\n",
    "tmp_path = pathlib.Path('../results/tmp/' + dataset_name)"
   ]
  },
  {
   "cell_type": "markdown",
   "id": "068d5b89",
   "metadata": {},
   "source": [
    "## Experiments Functions"
   ]
  },
  {
   "cell_type": "code",
   "execution_count": null,
   "id": "7a113866",
   "metadata": {},
   "outputs": [
    {
     "name": "stdout",
     "output_type": "stream",
     "text": [
      "Iniciando experimento COM ensemble...\n",
      "Iniciando experimento SEM ensemble...\n"
     ]
    },
    {
     "name": "stderr",
     "output_type": "stream",
     "text": [
      "/home/joao/miniconda3/envs/as-env/lib/python3.9/site-packages/autosklearn/data/target_validator.py:187: UserWarning: Fitting transformer with a pandas series which has the dtype category. Inverse transform may not be able preserve dtype when converting to np.ndarray\n",
      "  warnings.warn(\n",
      "/home/joao/miniconda3/envs/as-env/lib/python3.9/site-packages/autosklearn/data/target_validator.py:187: UserWarning: Fitting transformer with a pandas series which has the dtype category. Inverse transform may not be able preserve dtype when converting to np.ndarray\n",
      "  warnings.warn(\n"
     ]
    },
    {
     "name": "stdout",
     "output_type": "stream",
     "text": [
      "[WARNING] [2025-07-19 15:15:11,982:smac.runhistory.runhistory2epm.RunHistory2EPM4LogCost] Got cost of smaller/equal to 0. Replace by 0.000010 since we use log cost.\n",
      "[WARNING] [2025-07-19 15:15:12,944:smac.runhistory.runhistory2epm.RunHistory2EPM4LogCost] Got cost of smaller/equal to 0. Replace by 0.000010 since we use log cost.\n",
      "[WARNING] [2025-07-19 15:15:15,682:smac.runhistory.runhistory2epm.RunHistory2EPM4LogCost] Got cost of smaller/equal to 0. Replace by 0.000010 since we use log cost.\n"
     ]
    }
   ],
   "source": [
    "start_time = time.time()\n",
    "\n",
    "results = {}\n",
    "\n",
    "def process_result(experiment_name, automl_model):\n",
    "    \"\"\"Processa o resultado quando a thread termina\"\"\"\n",
    "    print(f\"{experiment_name} concluído!\")\n",
    "    \n",
    "    predictions = automl_model.predict(X_test)\n",
    "    accuracy = sklearn.metrics.accuracy_score(y_test, predictions)\n",
    "    \n",
    "    results[experiment_name] = {\n",
    "        'model': automl_model,\n",
    "        'accuracy': accuracy,\n",
    "        'predictions': predictions\n",
    "    }\n",
    "\n",
    "    df = automl_model.performance_over_time_\n",
    "    df.plot(x='Timestamp', y='single_best_optimization_score', kind='line')\n",
    "    \n",
    "    with open('../results/results.txt', 'a') as f:\n",
    "        if experiment_name == 'COM ensemble':\n",
    "            f.write(f\"{dataset_name} - With ensemble:\\n\")\n",
    "        else:\n",
    "            f.write(f\"{dataset_name} - Without ensemble:\\n\")\n",
    "        f.write(f\"Accuracy score: {accuracy}\\n\")\n",
    "        elapsed_time = time.time() - start_time\n",
    "        minutes = int(elapsed_time // 60)\n",
    "        seconds = int(elapsed_time % 60)\n",
    "        f.write(f\"Finished in: {minutes}m and {seconds}s\\n\\n\")\n",
    "\n",
    "with concurrent.futures.ThreadPoolExecutor(max_workers=2) as executor:\n",
    "    print(\"Iniciando experimento COM ensemble...\")\n",
    "    future_with = executor.submit(\n",
    "        with_ensemble_experiment, \n",
    "        X_train, y_train, time_limit, dataset_name, tmp_path / 'with_ensemble'\n",
    "    )\n",
    "    \n",
    "    print(\"Iniciando experimento SEM ensemble...\")\n",
    "    future_without = executor.submit(\n",
    "        without_ensemble_experiment, \n",
    "        X_train, y_train, time_limit, dataset_name, tmp_path / 'without_ensemble'\n",
    "    )\n",
    "    \n",
    "    for future in concurrent.futures.as_completed([future_with, future_without]):\n",
    "        if future == future_with:\n",
    "            automl_with_ensemble = future.result()\n",
    "            process_result(\"COM ensemble\", automl_with_ensemble)\n",
    "        else:\n",
    "            automl_without_ensemble = future.result()\n",
    "            process_result(\"SEM ensemble\", automl_without_ensemble)\n",
    "\n",
    "total_time = time.time() - start_time\n",
    "print(f\"Todos os experimentos concluídos em {total_time:.2f} segundos\")"
   ]
  },
  {
   "cell_type": "code",
   "execution_count": null,
   "id": "f23f5239",
   "metadata": {},
   "outputs": [
    {
     "name": "stdout",
     "output_type": "stream",
     "text": [
      "Resultado para COM ensemble teve acurácia de 0.99\n",
      "Construção do modelo:\n",
      "          rank  ensemble_weight                 type      cost  duration\n",
      "model_id                                                                \n",
      "19           1             0.02           libsvm_svc  0.011236  1.064847\n",
      "4            2             0.04           libsvm_svc  0.013483  0.920067\n",
      "24           3             0.14           libsvm_svc  0.013483  0.884224\n",
      "59           4             0.02           libsvm_svc  0.015730  0.878790\n",
      "7            5             0.02   passive_aggressive  0.017978  8.000868\n",
      "14           6             0.04  k_nearest_neighbors  0.020225  0.945806\n",
      "2            7             0.02        random_forest  0.024719  2.298819\n",
      "16           8             0.02    gradient_boosting  0.033708  7.547254\n",
      "33           9             0.08  k_nearest_neighbors  0.035955  1.104663\n",
      "31          10             0.02        liblinear_svc  0.038202  1.206321\n",
      "35          11             0.04           libsvm_svc  0.040449  1.715382\n",
      "29          12             0.10           libsvm_svc  0.042697  0.891673\n",
      "32          13             0.02                  mlp  0.051685  5.790116\n",
      "53          14             0.10                  sgd  0.098876  5.308438\n",
      "45          15             0.04          gaussian_nb  0.101124  0.918312\n",
      "11          16             0.06        random_forest  0.128090  4.640674\n",
      "43          17             0.08           libsvm_svc  0.220225  1.026935\n",
      "37          18             0.02        random_forest  0.249438  2.165878\n",
      "38          19             0.12        decision_tree  0.797753  1.054292\n",
      "\n",
      "Resultado para SEM ensemble teve acurácia de 0.99\n",
      "Construção do modelo:\n",
      "          rank  ensemble_weight        type      cost  duration\n",
      "model_id                                                       \n",
      "19           1              1.0  libsvm_svc  0.011236  0.904997\n",
      "\n"
     ]
    }
   ],
   "source": [
    "for result in results:\n",
    "    print(f\"Resultado para {result} teve acurácia de {results[result]['accuracy']:.2f}\")\n",
    "    print(\"Construção do modelo:\")\n",
    "    print(results[result]['model'].leaderboard(sort_by='cost'))\n",
    "    print()\n"
   ]
  },
  {
   "cell_type": "code",
   "execution_count": null,
   "id": "b3206179",
   "metadata": {},
   "outputs": [
    {
     "name": "stdout",
     "output_type": "stream",
     "text": [
      "Resultado para COM ensemble teve acurácia de 0.99\n",
      "Construção do modelo:\n",
      "{   2: {   'balancing': Balancing(random_state=1),\n",
      "           'classifier': <autosklearn.pipeline.components.classification.ClassifierChoice object at 0x744c74cde070>,\n",
      "           'cost': 0.024719101123595544,\n",
      "           'data_preprocessor': <autosklearn.pipeline.components.data_preprocessing.DataPreprocessorChoice object at 0x744c882a13d0>,\n",
      "           'ensemble_weight': 0.02,\n",
      "           'feature_preprocessor': <autosklearn.pipeline.components.feature_preprocessing.FeaturePreprocessorChoice object at 0x744c74cdeac0>,\n",
      "           'model_id': 2,\n",
      "           'rank': 1,\n",
      "           'sklearn_classifier': RandomForestClassifier(max_features=7, n_estimators=512, n_jobs=1,\n",
      "                       random_state=1, warm_start=True)},\n",
      "    4: {   'balancing': Balancing(random_state=1),\n",
      "           'classifier': <autosklearn.pipeline.components.classification.ClassifierChoice object at 0x744c806a9670>,\n",
      "           'cost': 0.013483146067415741,\n",
      "           'data_preprocessor': <autosklearn.pipeline.components.data_preprocessing.DataPreprocessorChoice object at 0x744c88e086a0>,\n",
      "           'ensemble_weight': 0.04,\n",
      "           'feature_preprocessor': <autosklearn.pipeline.components.feature_preprocessing.FeaturePreprocessorChoice object at 0x744c806a9d90>,\n",
      "           'model_id': 4,\n",
      "           'rank': 2,\n",
      "           'sklearn_classifier': SVC(C=8776.614453785322, cache_size=2552.3671875, coef0=-0.33548507886436374,\n",
      "    degree=2, gamma=2.6166845238639262, kernel='poly', max_iter=-1.0,\n",
      "    random_state=1, shrinking=False, tol=4.6482002538704e-05)},\n",
      "    7: {   'balancing': Balancing(random_state=1),\n",
      "           'classifier': <autosklearn.pipeline.components.classification.ClassifierChoice object at 0x744c74ecbdc0>,\n",
      "           'cost': 0.017977528089887618,\n",
      "           'data_preprocessor': <autosklearn.pipeline.components.data_preprocessing.DataPreprocessorChoice object at 0x744c74cdee80>,\n",
      "           'ensemble_weight': 0.02,\n",
      "           'feature_preprocessor': <autosklearn.pipeline.components.feature_preprocessing.FeaturePreprocessorChoice object at 0x744c74f392b0>,\n",
      "           'model_id': 7,\n",
      "           'rank': 3,\n",
      "           'sklearn_classifier': PassiveAggressiveClassifier(C=0.0007163174331946707, max_iter=256,\n",
      "                            random_state=1, tol=1.0000041320668022e-05,\n",
      "                            warm_start=True)},\n",
      "    11: {   'balancing': Balancing(random_state=1),\n",
      "            'classifier': <autosklearn.pipeline.components.classification.ClassifierChoice object at 0x744c88e4bc40>,\n",
      "            'cost': 0.12808988764044948,\n",
      "            'data_preprocessor': <autosklearn.pipeline.components.data_preprocessing.DataPreprocessorChoice object at 0x744c81632e20>,\n",
      "            'ensemble_weight': 0.06,\n",
      "            'feature_preprocessor': <autosklearn.pipeline.components.feature_preprocessing.FeaturePreprocessorChoice object at 0x744c88e4bdc0>,\n",
      "            'model_id': 11,\n",
      "            'rank': 4,\n",
      "            'sklearn_classifier': RandomForestClassifier(bootstrap=False, max_features=44, min_samples_leaf=18,\n",
      "                       min_samples_split=3, n_estimators=512, n_jobs=1,\n",
      "                       random_state=1, warm_start=True)},\n",
      "    14: {   'balancing': Balancing(random_state=1, strategy='weighting'),\n",
      "            'classifier': <autosklearn.pipeline.components.classification.ClassifierChoice object at 0x744c74e18580>,\n",
      "            'cost': 0.020224719101123556,\n",
      "            'data_preprocessor': <autosklearn.pipeline.components.data_preprocessing.DataPreprocessorChoice object at 0x744c74d009d0>,\n",
      "            'ensemble_weight': 0.04,\n",
      "            'feature_preprocessor': <autosklearn.pipeline.components.feature_preprocessing.FeaturePreprocessorChoice object at 0x744c74e18820>,\n",
      "            'model_id': 14,\n",
      "            'rank': 5,\n",
      "            'sklearn_classifier': KNeighborsClassifier(n_neighbors=4, weights='distance')},\n",
      "    16: {   'balancing': Balancing(random_state=1, strategy='weighting'),\n",
      "            'classifier': <autosklearn.pipeline.components.classification.ClassifierChoice object at 0x744c807a9940>,\n",
      "            'cost': 0.0337078651685393,\n",
      "            'data_preprocessor': <autosklearn.pipeline.components.data_preprocessing.DataPreprocessorChoice object at 0x744c806fb850>,\n",
      "            'ensemble_weight': 0.02,\n",
      "            'feature_preprocessor': <autosklearn.pipeline.components.feature_preprocessing.FeaturePreprocessorChoice object at 0x744c807a9d90>,\n",
      "            'model_id': 16,\n",
      "            'rank': 6,\n",
      "            'sklearn_classifier': HistGradientBoostingClassifier(early_stopping=True,\n",
      "                               l2_regularization=2.506856350040198e-06,\n",
      "                               learning_rate=0.04634380160611007, max_iter=512,\n",
      "                               max_leaf_nodes=11, min_samples_leaf=41,\n",
      "                               n_iter_no_change=17, random_state=1,\n",
      "                               validation_fraction=None, warm_start=True)},\n",
      "    19: {   'balancing': Balancing(random_state=1, strategy='weighting'),\n",
      "            'classifier': <autosklearn.pipeline.components.classification.ClassifierChoice object at 0x744c74e63d00>,\n",
      "            'cost': 0.011235955056179803,\n",
      "            'data_preprocessor': <autosklearn.pipeline.components.data_preprocessing.DataPreprocessorChoice object at 0x744c815a77f0>,\n",
      "            'ensemble_weight': 0.02,\n",
      "            'feature_preprocessor': <autosklearn.pipeline.components.feature_preprocessing.FeaturePreprocessorChoice object at 0x744c74e63940>,\n",
      "            'model_id': 19,\n",
      "            'rank': 7,\n",
      "            'sklearn_classifier': SVC(C=566.6840052213279, cache_size=2553.0338541666665, class_weight='balanced',\n",
      "    gamma=0.0019647850141763412, max_iter=-1.0, random_state=1,\n",
      "    tol=0.0012292213570589683)},\n",
      "    24: {   'balancing': Balancing(random_state=1),\n",
      "            'classifier': <autosklearn.pipeline.components.classification.ClassifierChoice object at 0x744c806a9100>,\n",
      "            'cost': 0.013483146067415741,\n",
      "            'data_preprocessor': <autosklearn.pipeline.components.data_preprocessing.DataPreprocessorChoice object at 0x744c80579fd0>,\n",
      "            'ensemble_weight': 0.14,\n",
      "            'feature_preprocessor': <autosklearn.pipeline.components.feature_preprocessing.FeaturePreprocessorChoice object at 0x744c806a9cd0>,\n",
      "            'model_id': 24,\n",
      "            'rank': 8,\n",
      "            'sklearn_classifier': SVC(C=12923.91167672086, cache_size=2553.2005208333335,\n",
      "    gamma=0.028106748647672205, max_iter=-1.0, random_state=1, shrinking=False,\n",
      "    tol=2.0706197108771777e-05)},\n",
      "    29: {   'balancing': Balancing(random_state=1),\n",
      "            'classifier': <autosklearn.pipeline.components.classification.ClassifierChoice object at 0x744c74d00b20>,\n",
      "            'cost': 0.04269662921348316,\n",
      "            'data_preprocessor': <autosklearn.pipeline.components.data_preprocessing.DataPreprocessorChoice object at 0x744c8031c580>,\n",
      "            'ensemble_weight': 0.1,\n",
      "            'feature_preprocessor': <autosklearn.pipeline.components.feature_preprocessing.FeaturePreprocessorChoice object at 0x744c74d00130>,\n",
      "            'model_id': 29,\n",
      "            'rank': 9,\n",
      "            'sklearn_classifier': SVC(C=14209.52464343196, cache_size=2531.6354166666665,\n",
      "    coef0=-0.1559304761513951, gamma=0.000659503404830947, kernel='sigmoid',\n",
      "    max_iter=-1.0, random_state=1, shrinking=False, tol=0.0004743519661236023)},\n",
      "    31: {   'balancing': Balancing(random_state=1),\n",
      "            'classifier': <autosklearn.pipeline.components.classification.ClassifierChoice object at 0x744c74db68e0>,\n",
      "            'cost': 0.038202247191011285,\n",
      "            'data_preprocessor': <autosklearn.pipeline.components.data_preprocessing.DataPreprocessorChoice object at 0x744c88031a90>,\n",
      "            'ensemble_weight': 0.02,\n",
      "            'feature_preprocessor': <autosklearn.pipeline.components.feature_preprocessing.FeaturePreprocessorChoice object at 0x744c74db6c10>,\n",
      "            'model_id': 31,\n",
      "            'rank': 10,\n",
      "            'sklearn_classifier': LinearSVC(dual=False, intercept_scaling=1.0, random_state=1,\n",
      "          tol=7.431912844732029e-05)},\n",
      "    32: {   'balancing': Balancing(random_state=1),\n",
      "            'classifier': <autosklearn.pipeline.components.classification.ClassifierChoice object at 0x744c77833820>,\n",
      "            'cost': 0.051685393258426915,\n",
      "            'data_preprocessor': <autosklearn.pipeline.components.data_preprocessing.DataPreprocessorChoice object at 0x744c817b3b50>,\n",
      "            'ensemble_weight': 0.02,\n",
      "            'feature_preprocessor': <autosklearn.pipeline.components.feature_preprocessing.FeaturePreprocessorChoice object at 0x744c74f390d0>,\n",
      "            'model_id': 32,\n",
      "            'rank': 11,\n",
      "            'sklearn_classifier': MLPClassifier(activation='tanh', alpha=0.0022527637678329674, beta_1=0.999,\n",
      "              beta_2=0.9, early_stopping=True, hidden_layer_sizes=(229,),\n",
      "              learning_rate_init=0.0001162349903905135, max_iter=64,\n",
      "              n_iter_no_change=32, random_state=1, verbose=0, warm_start=True)},\n",
      "    33: {   'balancing': Balancing(random_state=1),\n",
      "            'classifier': <autosklearn.pipeline.components.classification.ClassifierChoice object at 0x744c77868550>,\n",
      "            'cost': 0.035955056179775235,\n",
      "            'data_preprocessor': <autosklearn.pipeline.components.data_preprocessing.DataPreprocessorChoice object at 0x744c74d00970>,\n",
      "            'ensemble_weight': 0.08,\n",
      "            'feature_preprocessor': <autosklearn.pipeline.components.feature_preprocessing.FeaturePreprocessorChoice object at 0x744c77868790>,\n",
      "            'model_id': 33,\n",
      "            'rank': 12,\n",
      "            'sklearn_classifier': KNeighborsClassifier(n_neighbors=1, p=1, weights='distance')},\n",
      "    35: {   'balancing': Balancing(random_state=1, strategy='weighting'),\n",
      "            'classifier': <autosklearn.pipeline.components.classification.ClassifierChoice object at 0x744c7789c9d0>,\n",
      "            'cost': 0.04044943820224722,\n",
      "            'data_preprocessor': <autosklearn.pipeline.components.data_preprocessing.DataPreprocessorChoice object at 0x744c880f8160>,\n",
      "            'ensemble_weight': 0.04,\n",
      "            'feature_preprocessor': <autosklearn.pipeline.components.feature_preprocessing.FeaturePreprocessorChoice object at 0x744c7789cca0>,\n",
      "            'model_id': 35,\n",
      "            'rank': 13,\n",
      "            'sklearn_classifier': SVC(C=6799.929745858746, cache_size=2524.0364583333335, class_weight='balanced',\n",
      "    coef0=0.4148194549227373, gamma=0.0033361599873454615, kernel='sigmoid',\n",
      "    max_iter=-1.0, random_state=1, tol=0.0005705404056786376)},\n",
      "    37: {   'balancing': Balancing(random_state=1, strategy='weighting'),\n",
      "            'classifier': <autosklearn.pipeline.components.classification.ClassifierChoice object at 0x744c778d13a0>,\n",
      "            'cost': 0.24943820224719104,\n",
      "            'data_preprocessor': <autosklearn.pipeline.components.data_preprocessing.DataPreprocessorChoice object at 0x744c77820700>,\n",
      "            'ensemble_weight': 0.02,\n",
      "            'feature_preprocessor': <autosklearn.pipeline.components.feature_preprocessing.FeaturePreprocessorChoice object at 0x744c778d1700>,\n",
      "            'model_id': 37,\n",
      "            'rank': 14,\n",
      "            'sklearn_classifier': RandomForestClassifier(criterion='entropy', max_features=7, min_samples_leaf=16,\n",
      "                       min_samples_split=14, n_estimators=512, n_jobs=1,\n",
      "                       random_state=1, warm_start=True)},\n",
      "    38: {   'balancing': Balancing(random_state=1),\n",
      "            'classifier': <autosklearn.pipeline.components.classification.ClassifierChoice object at 0x744c77c52ac0>,\n",
      "            'cost': 0.797752808988764,\n",
      "            'data_preprocessor': <autosklearn.pipeline.components.data_preprocessing.DataPreprocessorChoice object at 0x744c77856c10>,\n",
      "            'ensemble_weight': 0.12,\n",
      "            'feature_preprocessor': <autosklearn.pipeline.components.feature_preprocessing.FeaturePreprocessorChoice object at 0x744c779964c0>,\n",
      "            'model_id': 38,\n",
      "            'rank': 15,\n",
      "            'sklearn_classifier': DecisionTreeClassifier(criterion='entropy', max_depth=1, min_samples_leaf=15,\n",
      "                       min_samples_split=8, random_state=1)},\n",
      "    43: {   'balancing': Balancing(random_state=1, strategy='weighting'),\n",
      "            'classifier': <autosklearn.pipeline.components.classification.ClassifierChoice object at 0x744c77c650a0>,\n",
      "            'cost': 0.22022471910112362,\n",
      "            'data_preprocessor': <autosklearn.pipeline.components.data_preprocessing.DataPreprocessorChoice object at 0x744c7788a8b0>,\n",
      "            'ensemble_weight': 0.08,\n",
      "            'feature_preprocessor': <autosklearn.pipeline.components.feature_preprocessing.FeaturePreprocessorChoice object at 0x744c77c76760>,\n",
      "            'model_id': 43,\n",
      "            'rank': 16,\n",
      "            'sklearn_classifier': SVC(C=400.8889806933245, cache_size=2532.96875, class_weight='balanced',\n",
      "    coef0=-0.37151932408767685, degree=2, gamma=0.004498147245435192,\n",
      "    kernel='poly', max_iter=-1.0, random_state=1, tol=4.647685256671398e-05)},\n",
      "    45: {   'balancing': Balancing(random_state=1),\n",
      "            'classifier': <autosklearn.pipeline.components.classification.ClassifierChoice object at 0x744c776dc610>,\n",
      "            'cost': 0.101123595505618,\n",
      "            'data_preprocessor': <autosklearn.pipeline.components.data_preprocessing.DataPreprocessorChoice object at 0x744c7793d1f0>,\n",
      "            'ensemble_weight': 0.04,\n",
      "            'feature_preprocessor': <autosklearn.pipeline.components.feature_preprocessing.FeaturePreprocessorChoice object at 0x744c817f12e0>,\n",
      "            'model_id': 45,\n",
      "            'rank': 17,\n",
      "            'sklearn_classifier': GaussianNB()},\n",
      "    53: {   'balancing': Balancing(random_state=1, strategy='weighting'),\n",
      "            'classifier': <autosklearn.pipeline.components.classification.ClassifierChoice object at 0x744c776dc430>,\n",
      "            'cost': 0.09887640449438206,\n",
      "            'data_preprocessor': <autosklearn.pipeline.components.data_preprocessing.DataPreprocessorChoice object at 0x744c77a21820>,\n",
      "            'ensemble_weight': 0.1,\n",
      "            'feature_preprocessor': <autosklearn.pipeline.components.feature_preprocessing.FeaturePreprocessorChoice object at 0x744c776dc2b0>,\n",
      "            'model_id': 53,\n",
      "            'rank': 18,\n",
      "            'sklearn_classifier': SGDClassifier(alpha=0.01394259746213559, eta0=2.7421201368995985e-05,\n",
      "              l1_ratio=3.449379684421497e-05, learning_rate='constant',\n",
      "              loss='log', max_iter=128, penalty='elasticnet', random_state=1,\n",
      "              tol=0.0003722809857936338, warm_start=True)},\n",
      "    59: {   'balancing': Balancing(random_state=1),\n",
      "            'classifier': <autosklearn.pipeline.components.classification.ClassifierChoice object at 0x744c746c5310>,\n",
      "            'cost': 0.01573033707865168,\n",
      "            'data_preprocessor': <autosklearn.pipeline.components.data_preprocessing.DataPreprocessorChoice object at 0x744c74e0ffa0>,\n",
      "            'ensemble_weight': 0.02,\n",
      "            'feature_preprocessor': <autosklearn.pipeline.components.feature_preprocessing.FeaturePreprocessorChoice object at 0x744c746c5250>,\n",
      "            'model_id': 59,\n",
      "            'rank': 19,\n",
      "            'sklearn_classifier': SVC(C=9403.753534810205, cache_size=2532.96875, gamma=0.010212844040438518,\n",
      "    max_iter=-1.0, random_state=1, tol=0.022775732228917427)}}\n",
      "\n",
      "Resultado para SEM ensemble teve acurácia de 0.99\n",
      "Construção do modelo:\n",
      "{   19: {   'balancing': Balancing(random_state=1, strategy='weighting'),\n",
      "            'classifier': <autosklearn.pipeline.components.classification.ClassifierChoice object at 0x744c74300760>,\n",
      "            'cost': 0.011235955056179803,\n",
      "            'data_preprocessor': <autosklearn.pipeline.components.data_preprocessing.DataPreprocessorChoice object at 0x744c807c07f0>,\n",
      "            'ensemble_weight': 1.0,\n",
      "            'feature_preprocessor': <autosklearn.pipeline.components.feature_preprocessing.FeaturePreprocessorChoice object at 0x744c74e4f700>,\n",
      "            'model_id': 19,\n",
      "            'rank': 1,\n",
      "            'sklearn_classifier': SVC(C=566.6840052213279, cache_size=2553.0338541666665, class_weight='balanced',\n",
      "    gamma=0.0019647850141763412, max_iter=-1.0, random_state=1,\n",
      "    tol=0.0012292213570589683)}}\n",
      "\n"
     ]
    }
   ],
   "source": [
    "for result in results:\n",
    "    print(f\"Resultado para {result} teve acurácia de {results[result]['accuracy']:.2f}\")\n",
    "    print(\"Construção do modelo:\")\n",
    "    pprint(results[result]['model'].show_models(), indent=4)\n",
    "    print()\n"
   ]
  },
  {
   "cell_type": "markdown",
   "id": "875f34cc",
   "metadata": {},
   "source": [
    "## Explaining the models"
   ]
  },
  {
   "cell_type": "markdown",
   "id": "d4b6bbdb",
   "metadata": {},
   "source": [
    "## Lista de próximas etapas:"
   ]
  },
  {
   "cell_type": "markdown",
   "id": "644737b0",
   "metadata": {},
   "source": [
    "- Verificar informações dos modelos de pre processamento"
   ]
  },
  {
   "cell_type": "markdown",
   "id": "1840996e",
   "metadata": {},
   "source": [
    "- Testar com outros datasets (mnist e wine quality dataset)"
   ]
  },
  {
   "cell_type": "markdown",
   "id": "24afa4d3",
   "metadata": {},
   "source": [
    "- Testar o imdb com mais tempo para estourar o teto"
   ]
  },
  {
   "cell_type": "markdown",
   "id": "a0ff75ad",
   "metadata": {},
   "source": [
    "- Melhorar estrutura para salver os resultados dos exprimentos com mais métricas as e os gráficos"
   ]
  },
  {
   "cell_type": "markdown",
   "id": "43577d32",
   "metadata": {},
   "source": [
    "### Outros tópicos"
   ]
  },
  {
   "cell_type": "markdown",
   "id": "9f802715",
   "metadata": {},
   "source": [
    "- Pesquisar sobre SHAP e interpretabilidade\n",
    "- Começar a usar o TPOT ou H2O"
   ]
  }
 ],
 "metadata": {
  "kernelspec": {
   "display_name": "as-env",
   "language": "python",
   "name": "python3"
  },
  "language_info": {
   "codemirror_mode": {
    "name": "ipython",
    "version": 3
   },
   "file_extension": ".py",
   "mimetype": "text/x-python",
   "name": "python",
   "nbconvert_exporter": "python",
   "pygments_lexer": "ipython3",
   "version": "3.9.23"
  }
 },
 "nbformat": 4,
 "nbformat_minor": 5
}
