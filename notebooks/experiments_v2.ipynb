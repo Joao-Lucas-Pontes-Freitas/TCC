{
 "cells": [
  {
   "cell_type": "markdown",
   "id": "9b56b262",
   "metadata": {},
   "source": [
    "## Setup"
   ]
  },
  {
   "cell_type": "code",
   "execution_count": 1,
   "id": "fcb08346",
   "metadata": {},
   "outputs": [],
   "source": [
    "import sys, os\n",
    "sys.path.insert(0, os.path.abspath(os.path.join('..', 'src')))"
   ]
  },
  {
   "cell_type": "code",
   "execution_count": 2,
   "id": "1d5c9c4c",
   "metadata": {},
   "outputs": [
    {
     "data": {
      "text/plain": [
       "True"
      ]
     },
     "execution_count": 2,
     "metadata": {},
     "output_type": "execute_result"
    }
   ],
   "source": [
    "from dotenv import load_dotenv\n",
    "\n",
    "# Carrega as variáveis de ambiente do arquivo .env\n",
    "load_dotenv(dotenv_path='../.env')"
   ]
  },
  {
   "cell_type": "code",
   "execution_count": 3,
   "id": "70bb2f04",
   "metadata": {},
   "outputs": [
    {
     "name": "stderr",
     "output_type": "stream",
     "text": [
      "/home/joao/miniconda3/envs/as-env/lib/python3.9/site-packages/sklearn/utils/fixes.py:28: UserWarning: pkg_resources is deprecated as an API. See https://setuptools.pypa.io/en/latest/pkg_resources.html. The pkg_resources package is slated for removal as early as 2025-11-30. Refrain from using this package or pin to Setuptools<81.\n",
      "  from pkg_resources import parse_version  # type: ignore\n"
     ]
    }
   ],
   "source": [
    "import concurrent.futures\n",
    "import json\n",
    "from pathlib import Path\n",
    "import time\n",
    "from pprint import pprint\n",
    "from pymongo import MongoClient\n",
    "from datetime import datetime\n",
    "\n",
    "import matplotlib.pyplot as plt\n",
    "import sklearn.datasets\n",
    "import sklearn.metrics\n",
    "import sklearn.model_selection\n",
    "\n",
    "import autosklearn.classification\n",
    "\n",
    "from AutoSklearn.with_ensemble import with_ensemble_experiment\n",
    "from AutoSklearn.without_ensemble import without_ensemble_experiment"
   ]
  },
  {
   "cell_type": "code",
   "execution_count": 4,
   "id": "61871644",
   "metadata": {},
   "outputs": [],
   "source": [
    "def get_mongo_connection():\n",
    "    \"\"\"Estabelece conexão com MongoDB e retorna a collection\"\"\"\n",
    "    client = MongoClient(os.getenv('MONGODB_CONNECTION_STRING'))\n",
    "    db = client['TCC']\n",
    "    collection = db['Experimentos']\n",
    "    return collection\n",
    "\n",
    "def serialize_model_info(automl_model):\n",
    "    \"\"\"Extrai informações detalhadas do modelo AutoSklearn serializáveis para MongoDB\"\"\"\n",
    "    try:\n",
    "        model_info = {\n",
    "            'total_models': len(automl_model.get_models_with_weights()),\n",
    "            'models': []\n",
    "        }\n",
    "        \n",
    "        # Informações detalhadas de cada modelo no ensemble\n",
    "        for weight, pipeline in automl_model.get_models_with_weights():\n",
    "            model_detail = {\n",
    "                'weight': float(weight),\n",
    "                'classifier': {},\n",
    "                'data_preprocessor': {},\n",
    "                'feature_preprocessor': {}\n",
    "            }\n",
    "            \n",
    "            # Extrair informações de cada step do pipeline\n",
    "            for name, step in pipeline.steps:\n",
    "                real_step = step.choice if hasattr(step, \"choice\") else step\n",
    "                \n",
    "                # Pegar apenas parâmetros simples (números, strings, booleanos)\n",
    "                simple_params = {}\n",
    "                try:\n",
    "                    params = real_step.get_params() if hasattr(real_step, 'get_params') else {}\n",
    "                    for key, value in params.items():\n",
    "                        if isinstance(value, (int, float, str, bool, type(None))):\n",
    "                            simple_params[key] = value\n",
    "                        elif isinstance(value, dict):\n",
    "                            # Para dicionários, pegar apenas valores simples\n",
    "                            simple_dict = {}\n",
    "                            for k, v in value.items():\n",
    "                                if isinstance(v, (int, float, str, bool, type(None))):\n",
    "                                    simple_dict[k] = v\n",
    "                            if simple_dict:\n",
    "                                simple_params[key] = simple_dict\n",
    "                        else:\n",
    "                            # Para objetos complexos, converter para string\n",
    "                            simple_params[key] = str(type(value).__name__)\n",
    "                except:\n",
    "                    simple_params = {}\n",
    "                \n",
    "                step_info = {\n",
    "                    'algorithm': real_step.__class__.__name__,\n",
    "                    'parameters': simple_params\n",
    "                }\n",
    "                \n",
    "                # Mapear para as categorias corretas\n",
    "                if name == 'classifier':\n",
    "                    model_detail['classifier'] = step_info\n",
    "                elif name == 'data_preprocessor':\n",
    "                    model_detail['data_preprocessor'] = step_info\n",
    "                elif name == 'feature_preprocessor':\n",
    "                    model_detail['feature_preprocessor'] = step_info\n",
    "            \n",
    "            model_info['models'].append(model_detail)\n",
    "        \n",
    "        return model_info\n",
    "    \n",
    "    except Exception as e:\n",
    "        return {'error': f'Erro ao processar modelo: {str(e)}'}"
   ]
  },
  {
   "cell_type": "markdown",
   "id": "7107d40d",
   "metadata": {},
   "source": [
    "## Dataset and Experiments Parameters"
   ]
  },
  {
   "cell_type": "code",
   "execution_count": 5,
   "id": "700db29f",
   "metadata": {},
   "outputs": [],
   "source": [
    "dataset_name = 'iris'\n",
    "\n",
    "X, y = sklearn.datasets.fetch_openml(\n",
    "    name=dataset_name,\n",
    "    version=1,\n",
    "    return_X_y=True,\n",
    "    as_frame=True\n",
    ")\n",
    "X_train, X_test, y_train, y_test = sklearn.model_selection.train_test_split(\n",
    "    X, y, random_state=1\n",
    ")\n",
    "\n",
    "tmp_path = Path('../results/tmp') / dataset_name\n",
    "time_limit = 60 * 1  # 60 * número de minutos"
   ]
  },
  {
   "cell_type": "markdown",
   "id": "068d5b89",
   "metadata": {},
   "source": [
    "## Experiments Functions"
   ]
  },
  {
   "cell_type": "code",
   "execution_count": 6,
   "id": "7a113866",
   "metadata": {},
   "outputs": [
    {
     "name": "stdout",
     "output_type": "stream",
     "text": [
      "Iniciando experimento COM ensemble...\n",
      "Iniciando experimento SEM ensemble...\n"
     ]
    },
    {
     "name": "stderr",
     "output_type": "stream",
     "text": [
      "/home/joao/miniconda3/envs/as-env/lib/python3.9/site-packages/autosklearn/data/target_validator.py:187: UserWarning: Fitting transformer with a pandas series which has the dtype category. Inverse transform may not be able preserve dtype when converting to np.ndarray\n",
      "  warnings.warn(\n",
      "/home/joao/miniconda3/envs/as-env/lib/python3.9/site-packages/autosklearn/data/target_validator.py:187: UserWarning: Fitting transformer with a pandas series which has the dtype category. Inverse transform may not be able preserve dtype when converting to np.ndarray\n",
      "  warnings.warn(\n"
     ]
    },
    {
     "name": "stdout",
     "output_type": "stream",
     "text": [
      "[WARNING] [2025-07-21 23:03:33,410:smac.runhistory.runhistory2epm.RunHistory2EPM4LogCost] Got cost of smaller/equal to 0. Replace by 0.000010 since we use log cost.\n",
      "[WARNING] [2025-07-21 23:03:36,437:smac.runhistory.runhistory2epm.RunHistory2EPM4LogCost] Got cost of smaller/equal to 0. Replace by 0.000010 since we use log cost.\n",
      "[WARNING] [2025-07-21 23:03:38,853:smac.runhistory.runhistory2epm.RunHistory2EPM4LogCost] Got cost of smaller/equal to 0. Replace by 0.000010 since we use log cost.\n",
      "[WARNING] [2025-07-21 23:03:40,290:smac.runhistory.runhistory2epm.RunHistory2EPM4LogCost] Got cost of smaller/equal to 0. Replace by 0.000010 since we use log cost.\n",
      "[WARNING] [2025-07-21 23:03:44,038:smac.runhistory.runhistory2epm.RunHistory2EPM4LogCost] Got cost of smaller/equal to 0. Replace by 0.000010 since we use log cost.\n",
      "[WARNING] [2025-07-21 23:03:47,286:smac.runhistory.runhistory2epm.RunHistory2EPM4LogCost] Got cost of smaller/equal to 0. Replace by 0.000010 since we use log cost.\n",
      "[WARNING] [2025-07-21 23:03:48,812:smac.runhistory.runhistory2epm.RunHistory2EPM4LogCost] Got cost of smaller/equal to 0. Replace by 0.000010 since we use log cost.\n",
      "[WARNING] [2025-07-21 23:03:49,298:smac.runhistory.runhistory2epm.RunHistory2EPM4LogCost] Got cost of smaller/equal to 0. Replace by 0.000010 since we use log cost.\n",
      "[WARNING] [2025-07-21 23:03:49,706:smac.runhistory.runhistory2epm.RunHistory2EPM4LogCost] Got cost of smaller/equal to 0. Replace by 0.000010 since we use log cost.\n",
      "[WARNING] [2025-07-21 23:03:57,035:smac.runhistory.runhistory2epm.RunHistory2EPM4LogCost] Got cost of smaller/equal to 0. Replace by 0.000010 since we use log cost.\n",
      "[WARNING] [2025-07-21 23:03:58,041:smac.runhistory.runhistory2epm.RunHistory2EPM4LogCost] Got cost of smaller/equal to 0. Replace by 0.000010 since we use log cost.\n",
      "[WARNING] [2025-07-21 23:03:59,257:smac.runhistory.runhistory2epm.RunHistory2EPM4LogCost] Got cost of smaller/equal to 0. Replace by 0.000010 since we use log cost.\n",
      "COM ensemble concluído!\n",
      "❌ Erro MongoDB: SSL handshake failed: ac-wvjp0kv-shard-00-02.qc5bvbn.mongodb.net:27017: [SSL: TLSV1_ALERT_INTERNAL_ERROR] tlsv1 alert internal error (_ssl.c:1147) (configured timeouts: socketTimeoutMS: 20000.0ms, connectTimeoutMS: 20000.0ms),SSL handshake failed: ac-wvjp0kv-shard-00-01.qc5bvbn.mongodb.net:27017: [SSL: TLSV1_ALERT_INTERNAL_ERROR] tlsv1 alert internal error (_ssl.c:1147) (configured timeouts: socketTimeoutMS: 20000.0ms, connectTimeoutMS: 20000.0ms),SSL handshake failed: ac-wvjp0kv-shard-00-00.qc5bvbn.mongodb.net:27017: [SSL: TLSV1_ALERT_INTERNAL_ERROR] tlsv1 alert internal error (_ssl.c:1147) (configured timeouts: socketTimeoutMS: 20000.0ms, connectTimeoutMS: 20000.0ms), Timeout: 30s, Topology Description: <TopologyDescription id: 687ef191b772851e67661be7, topology_type: ReplicaSetNoPrimary, servers: [<ServerDescription ('ac-wvjp0kv-shard-00-00.qc5bvbn.mongodb.net', 27017) server_type: Unknown, rtt: None, error=AutoReconnect('SSL handshake failed: ac-wvjp0kv-shard-00-00.qc5bvbn.mongodb.net:27017: [SSL: TLSV1_ALERT_INTERNAL_ERROR] tlsv1 alert internal error (_ssl.c:1147) (configured timeouts: socketTimeoutMS: 20000.0ms, connectTimeoutMS: 20000.0ms)')>, <ServerDescription ('ac-wvjp0kv-shard-00-01.qc5bvbn.mongodb.net', 27017) server_type: Unknown, rtt: None, error=AutoReconnect('SSL handshake failed: ac-wvjp0kv-shard-00-01.qc5bvbn.mongodb.net:27017: [SSL: TLSV1_ALERT_INTERNAL_ERROR] tlsv1 alert internal error (_ssl.c:1147) (configured timeouts: socketTimeoutMS: 20000.0ms, connectTimeoutMS: 20000.0ms)')>, <ServerDescription ('ac-wvjp0kv-shard-00-02.qc5bvbn.mongodb.net', 27017) server_type: Unknown, rtt: None, error=AutoReconnect('SSL handshake failed: ac-wvjp0kv-shard-00-02.qc5bvbn.mongodb.net:27017: [SSL: TLSV1_ALERT_INTERNAL_ERROR] tlsv1 alert internal error (_ssl.c:1147) (configured timeouts: socketTimeoutMS: 20000.0ms, connectTimeoutMS: 20000.0ms)')>]>\n",
      "SEM ensemble concluído!\n",
      "❌ Erro MongoDB: SSL handshake failed: ac-wvjp0kv-shard-00-02.qc5bvbn.mongodb.net:27017: [SSL: TLSV1_ALERT_INTERNAL_ERROR] tlsv1 alert internal error (_ssl.c:1147) (configured timeouts: socketTimeoutMS: 20000.0ms, connectTimeoutMS: 20000.0ms),SSL handshake failed: ac-wvjp0kv-shard-00-01.qc5bvbn.mongodb.net:27017: [SSL: TLSV1_ALERT_INTERNAL_ERROR] tlsv1 alert internal error (_ssl.c:1147) (configured timeouts: socketTimeoutMS: 20000.0ms, connectTimeoutMS: 20000.0ms),SSL handshake failed: ac-wvjp0kv-shard-00-00.qc5bvbn.mongodb.net:27017: [SSL: TLSV1_ALERT_INTERNAL_ERROR] tlsv1 alert internal error (_ssl.c:1147) (configured timeouts: socketTimeoutMS: 20000.0ms, connectTimeoutMS: 20000.0ms), Timeout: 30s, Topology Description: <TopologyDescription id: 687ef1b0b772851e67661be9, topology_type: ReplicaSetNoPrimary, servers: [<ServerDescription ('ac-wvjp0kv-shard-00-00.qc5bvbn.mongodb.net', 27017) server_type: Unknown, rtt: None, error=AutoReconnect('SSL handshake failed: ac-wvjp0kv-shard-00-00.qc5bvbn.mongodb.net:27017: [SSL: TLSV1_ALERT_INTERNAL_ERROR] tlsv1 alert internal error (_ssl.c:1147) (configured timeouts: socketTimeoutMS: 20000.0ms, connectTimeoutMS: 20000.0ms)')>, <ServerDescription ('ac-wvjp0kv-shard-00-01.qc5bvbn.mongodb.net', 27017) server_type: Unknown, rtt: None, error=AutoReconnect('SSL handshake failed: ac-wvjp0kv-shard-00-01.qc5bvbn.mongodb.net:27017: [SSL: TLSV1_ALERT_INTERNAL_ERROR] tlsv1 alert internal error (_ssl.c:1147) (configured timeouts: socketTimeoutMS: 20000.0ms, connectTimeoutMS: 20000.0ms)')>, <ServerDescription ('ac-wvjp0kv-shard-00-02.qc5bvbn.mongodb.net', 27017) server_type: Unknown, rtt: None, error=AutoReconnect('SSL handshake failed: ac-wvjp0kv-shard-00-02.qc5bvbn.mongodb.net:27017: [SSL: TLSV1_ALERT_INTERNAL_ERROR] tlsv1 alert internal error (_ssl.c:1147) (configured timeouts: socketTimeoutMS: 20000.0ms, connectTimeoutMS: 20000.0ms)')>]>\n",
      "Todos os experimentos concluídos em 113.83 segundos\n"
     ]
    }
   ],
   "source": [
    "start_time = time.time()\n",
    "\n",
    "results = {}\n",
    "\n",
    "def process_result_mongodb(experiment_name, automl_model, dataset_name):\n",
    "    \"\"\"Processa o resultado e salva no MongoDB\"\"\"\n",
    "    print(f\"{experiment_name} concluído!\")\n",
    "    \n",
    "    predictions = automl_model.predict(X_test)\n",
    "    accuracy = sklearn.metrics.accuracy_score(y_test, predictions)\n",
    "    \n",
    "    precision = sklearn.metrics.precision_score(y_test, predictions, average='weighted')\n",
    "    recall = sklearn.metrics.recall_score(y_test, predictions, average='weighted')\n",
    "    f1 = sklearn.metrics.f1_score(y_test, predictions, average='weighted')\n",
    "    \n",
    "    experiment_document = {\n",
    "        'timestamp': datetime.now(),\n",
    "        'dataset': dataset_name,\n",
    "        'with_ensemble': experiment_name == \"COM ensemble\",\n",
    "        'metrics': {\n",
    "            'accuracy': float(accuracy),\n",
    "            'precision': float(precision),\n",
    "            'recall': float(recall),\n",
    "            'f1_score': float(f1)\n",
    "        },\n",
    "        'model': serialize_model_info(automl_model),\n",
    "    }\n",
    "    \n",
    "    # Salva no MongoDB\n",
    "    try:\n",
    "        collection = get_mongo_connection()\n",
    "        result = collection.insert_one(experiment_document)\n",
    "        print(f\"✅ Salvo no MongoDB: {result.inserted_id}\")\n",
    "    except Exception as e:\n",
    "        print(f\"❌ Erro MongoDB: {e}\")\n",
    "    \n",
    "    # Mantém local para análises\n",
    "    results[experiment_name] = {\n",
    "        'model': automl_model,\n",
    "        'accuracy': accuracy,\n",
    "        'predictions': predictions\n",
    "    }\n",
    "\n",
    "with concurrent.futures.ThreadPoolExecutor(max_workers=2) as executor:\n",
    "    print(\"Iniciando experimento COM ensemble...\")\n",
    "    future_with = executor.submit(\n",
    "        with_ensemble_experiment, \n",
    "        X_train, y_train, time_limit, dataset_name, tmp_path / 'with_ensemble'\n",
    "    )\n",
    "    \n",
    "    print(\"Iniciando experimento SEM ensemble...\")\n",
    "    future_without = executor.submit(\n",
    "        without_ensemble_experiment, \n",
    "        X_train, y_train, time_limit, dataset_name, tmp_path / 'without_ensemble'\n",
    "    )\n",
    "    \n",
    "    for future in concurrent.futures.as_completed([future_with, future_without]):\n",
    "        if future == future_with:\n",
    "            automl_with_ensemble = future.result()\n",
    "            process_result_mongodb(\"COM ensemble\", automl_with_ensemble, dataset_name)\n",
    "        else:\n",
    "            automl_without_ensemble = future.result()\n",
    "            process_result_mongodb(\"SEM ensemble\", automl_without_ensemble, dataset_name)\n",
    "\n",
    "total_time = time.time() - start_time\n",
    "print(f\"Todos os experimentos concluídos em {total_time:.2f} segundos\")"
   ]
  },
  {
   "cell_type": "markdown",
   "id": "875f34cc",
   "metadata": {},
   "source": [
    "## Explaining the models"
   ]
  },
  {
   "cell_type": "markdown",
   "id": "d4b6bbdb",
   "metadata": {},
   "source": [
    "## Lista de próximas etapas:"
   ]
  },
  {
   "cell_type": "markdown",
   "id": "644737b0",
   "metadata": {},
   "source": [
    "- Verificar informações dos modelos de pre processamento"
   ]
  },
  {
   "cell_type": "markdown",
   "id": "1840996e",
   "metadata": {},
   "source": [
    "- Testar com outros datasets (mnist e wine quality dataset)"
   ]
  },
  {
   "cell_type": "markdown",
   "id": "24afa4d3",
   "metadata": {},
   "source": [
    "- Testar o imdb com mais tempo para estourar o teto"
   ]
  },
  {
   "cell_type": "markdown",
   "id": "a0ff75ad",
   "metadata": {},
   "source": [
    "- Melhorar estrutura para salver os resultados dos exprimentos com mais métricas as e os gráficos"
   ]
  },
  {
   "cell_type": "markdown",
   "id": "43577d32",
   "metadata": {},
   "source": [
    "### Outros tópicos"
   ]
  },
  {
   "cell_type": "markdown",
   "id": "9f802715",
   "metadata": {},
   "source": [
    "- Pesquisar sobre SHAP e interpretabilidade\n",
    "- Começar a usar o TPOT ou H2O"
   ]
  }
 ],
 "metadata": {
  "kernelspec": {
   "display_name": "as-env",
   "language": "python",
   "name": "python3"
  },
  "language_info": {
   "codemirror_mode": {
    "name": "ipython",
    "version": 3
   },
   "file_extension": ".py",
   "mimetype": "text/x-python",
   "name": "python",
   "nbconvert_exporter": "python",
   "pygments_lexer": "ipython3",
   "version": "3.9.23"
  }
 },
 "nbformat": 4,
 "nbformat_minor": 5
}
