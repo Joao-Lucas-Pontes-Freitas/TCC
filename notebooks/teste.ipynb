{
 "cells": [
  {
   "cell_type": "code",
   "execution_count": 5,
   "id": "66f00a54",
   "metadata": {},
   "outputs": [
    {
     "name": "stderr",
     "output_type": "stream",
     "text": [
      "/tmp/ipykernel_7386/4090565225.py:24: DeprecationWarning: `ensemble_size` has been deprecated, please use `ensemble_kwargs = {'ensemble_size': 1}`. Inserting `ensemble_size` into `ensemble_kwargs` for now. `ensemble_size` will be removed in auto-sklearn 0.16.\n",
      "  automl = autosklearn.classification.AutoSklearnClassifier(\n",
      "/home/joao/miniconda3/envs/as-env/lib/python3.9/site-packages/autosklearn/data/target_validator.py:187: UserWarning: Fitting transformer with a pandas series which has the dtype category. Inverse transform may not be able preserve dtype when converting to np.ndarray\n",
      "  warnings.warn(\n"
     ]
    },
    {
     "name": "stdout",
     "output_type": "stream",
     "text": [
      "[WARNING] [2025-07-21 23:01:39,804:smac.runhistory.runhistory2epm.RunHistory2EPM4LogCost] Got cost of smaller/equal to 0. Replace by 0.000010 since we use log cost.\n",
      "[WARNING] [2025-07-21 23:01:42,431:smac.runhistory.runhistory2epm.RunHistory2EPM4LogCost] Got cost of smaller/equal to 0. Replace by 0.000010 since we use log cost.\n",
      "[WARNING] [2025-07-21 23:01:45,568:smac.runhistory.runhistory2epm.RunHistory2EPM4LogCost] Got cost of smaller/equal to 0. Replace by 0.000010 since we use log cost.\n",
      "[WARNING] [2025-07-21 23:01:49,451:smac.runhistory.runhistory2epm.RunHistory2EPM4LogCost] Got cost of smaller/equal to 0. Replace by 0.000010 since we use log cost.\n",
      "[WARNING] [2025-07-21 23:01:50,450:smac.runhistory.runhistory2epm.RunHistory2EPM4LogCost] Got cost of smaller/equal to 0. Replace by 0.000010 since we use log cost.\n",
      "[WARNING] [2025-07-21 23:01:51,072:smac.runhistory.runhistory2epm.RunHistory2EPM4LogCost] Got cost of smaller/equal to 0. Replace by 0.000010 since we use log cost.\n",
      "[WARNING] [2025-07-21 23:01:54,639:smac.runhistory.runhistory2epm.RunHistory2EPM4LogCost] Got cost of smaller/equal to 0. Replace by 0.000010 since we use log cost.\n",
      "[WARNING] [2025-07-21 23:01:57,555:smac.runhistory.runhistory2epm.RunHistory2EPM4LogCost] Got cost of smaller/equal to 0. Replace by 0.000010 since we use log cost.\n",
      "[WARNING] [2025-07-21 23:01:58,296:smac.runhistory.runhistory2epm.RunHistory2EPM4LogCost] Got cost of smaller/equal to 0. Replace by 0.000010 since we use log cost.\n",
      "[WARNING] [2025-07-21 23:02:01,995:smac.runhistory.runhistory2epm.RunHistory2EPM4LogCost] Got cost of smaller/equal to 0. Replace by 0.000010 since we use log cost.\n",
      "[WARNING] [2025-07-21 23:02:06,354:smac.runhistory.runhistory2epm.RunHistory2EPM4LogCost] Got cost of smaller/equal to 0. Replace by 0.000010 since we use log cost.\n"
     ]
    },
    {
     "data": {
      "text/plain": [
       "AutoSklearnClassifier(ensemble_class=<class 'autosklearn.ensembles.ensemble_selection.EnsembleSelection'>,\n",
       "                      ensemble_kwargs={'ensemble_size': 1}, ensemble_size=1,\n",
       "                      metric=f1_weighted, per_run_time_limit=6,\n",
       "                      time_left_for_this_task=60,\n",
       "                      tmp_folder=PosixPath('../results/tmp/iris'))"
      ]
     },
     "execution_count": 5,
     "metadata": {},
     "output_type": "execute_result"
    }
   ],
   "source": [
    "\n",
    "import autosklearn.classification\n",
    "import autosklearn.metrics\n",
    "import sklearn.datasets\n",
    "import sklearn.model_selection\n",
    "from pathlib import Path\n",
    "\n",
    "\n",
    "scorer = autosklearn.metrics.f1_weighted\n",
    "dataset_name = \"iris\"\n",
    "tmp_path = Path('../results/tmp') / dataset_name\n",
    "time_limit = 60 * 1  # 60 * número de minutos\n",
    "\n",
    "X, y = sklearn.datasets.fetch_openml(\n",
    "    name=dataset_name,\n",
    "    version=1,\n",
    "    return_X_y=True,\n",
    "    as_frame=True\n",
    ")\n",
    "X_train, X_test, y_train, y_test = sklearn.model_selection.train_test_split(\n",
    "    X, y, random_state=1\n",
    ")\n",
    "\n",
    "\n",
    "automl = autosklearn.classification.AutoSklearnClassifier(\n",
    "    time_left_for_this_task=time_limit,\n",
    "    tmp_folder=tmp_path,\n",
    "    seed=1,\n",
    "    metric=scorer,\n",
    "    ensemble_size=1\n",
    ")\n",
    "automl.fit(X_train, y_train, dataset_name=dataset_name)"
   ]
  },
  {
   "cell_type": "code",
   "execution_count": 3,
   "id": "d092e712",
   "metadata": {},
   "outputs": [
    {
     "data": {
      "text/plain": [
       "0.9739522830846216"
      ]
     },
     "execution_count": 3,
     "metadata": {},
     "output_type": "execute_result"
    }
   ],
   "source": [
    "automl.score(X_test, y_test)"
   ]
  }
 ],
 "metadata": {
  "kernelspec": {
   "display_name": "as-env",
   "language": "python",
   "name": "python3"
  },
  "language_info": {
   "codemirror_mode": {
    "name": "ipython",
    "version": 3
   },
   "file_extension": ".py",
   "mimetype": "text/x-python",
   "name": "python",
   "nbconvert_exporter": "python",
   "pygments_lexer": "ipython3",
   "version": "3.9.23"
  }
 },
 "nbformat": 4,
 "nbformat_minor": 5
}
