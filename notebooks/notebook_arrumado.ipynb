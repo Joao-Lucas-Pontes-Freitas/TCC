{
 "cells": [
  {
   "cell_type": "markdown",
   "id": "7b1727b1",
   "metadata": {},
   "source": [
    "# Exprimentos AutoSklearn"
   ]
  },
  {
   "cell_type": "markdown",
   "id": "fe891003",
   "metadata": {},
   "source": [
    "## Setup"
   ]
  },
  {
   "cell_type": "code",
   "execution_count": 8,
   "id": "633f4d61",
   "metadata": {},
   "outputs": [],
   "source": [
    "import sys, os\n",
    "sys.path.insert(0, os.path.abspath(os.path.join('..', 'src')))\n",
    "\n",
    "from dotenv import load_dotenv\n",
    "\n",
    "# Carrega as variáveis de ambiente do arquivo .env\n",
    "load_dotenv(dotenv_path='../.env')\n",
    "\n",
    "import concurrent.futures\n",
    "import json\n",
    "from pathlib import Path\n",
    "import time\n",
    "from pprint import pprint\n",
    "from pymongo import MongoClient\n",
    "from datetime import datetime\n",
    "import shutil\n",
    "\n",
    "import matplotlib.pyplot as plt\n",
    "import sklearn.datasets\n",
    "import sklearn.metrics\n",
    "import sklearn.model_selection\n",
    "\n",
    "import autosklearn.classification\n",
    "import autosklearn.metrics"
   ]
  },
  {
   "cell_type": "code",
   "execution_count": 9,
   "id": "32cd4c40",
   "metadata": {},
   "outputs": [],
   "source": [
    "def get_mongo_connection():\n",
    "    \"\"\"Estabelece conexão com MongoDB e retorna a collection\"\"\"\n",
    "    client = MongoClient(os.getenv('MONGODB_CONNECTION_STRING'))\n",
    "    db = client['TCC']\n",
    "    collection = db['Experimentos']\n",
    "    return collection"
   ]
  },
  {
   "cell_type": "markdown",
   "id": "addfb341",
   "metadata": {},
   "source": [
    "## Parâmetros Experimentos"
   ]
  },
  {
   "cell_type": "code",
   "execution_count": 10,
   "id": "51696cd7",
   "metadata": {},
   "outputs": [],
   "source": [
    "dataset_name = 'iris'\n",
    "\n",
    "X, y = sklearn.datasets.fetch_openml(\n",
    "    name=dataset_name,\n",
    "    version=1,\n",
    "    return_X_y=True,\n",
    "    as_frame=True\n",
    ")\n",
    "X_train, X_test, y_train, y_test = sklearn.model_selection.train_test_split(\n",
    "    X, y, random_state=1\n",
    ")\n",
    "\n",
    "tmp_path = Path('../results/tmp') / dataset_name\n",
    "if tmp_path.exists():\n",
    "    shutil.rmtree(tmp_path)\n",
    "\n",
    "        \n",
    "time_limit = 60 * 1  # 60 * número de minutos"
   ]
  },
  {
   "cell_type": "markdown",
   "id": "95338421",
   "metadata": {},
   "source": [
    "## Experimentos"
   ]
  },
  {
   "cell_type": "code",
   "execution_count": 11,
   "id": "b04275d0",
   "metadata": {},
   "outputs": [],
   "source": [
    "def serialize_model_info(automl_model):\n",
    "    \"\"\"Extrai informações detalhadas do modelo AutoSklearn serializáveis para MongoDB\"\"\"\n",
    "    try:\n",
    "        model_info = {\n",
    "            'total_models': len(automl_model.get_models_with_weights()),\n",
    "            'models': []\n",
    "        }\n",
    "        \n",
    "        # Informações detalhadas de cada modelo no ensemble\n",
    "        for weight, pipeline in automl_model.get_models_with_weights():\n",
    "            model_detail = {\n",
    "                'weight': float(weight),\n",
    "                'classifier': {},\n",
    "                'data_preprocessor': {},\n",
    "                'feature_preprocessor': {}\n",
    "            }\n",
    "            \n",
    "            # Extrair informações de cada step do pipeline\n",
    "            for name, step in pipeline.steps:\n",
    "                real_step = step.choice if hasattr(step, \"choice\") else step\n",
    "                \n",
    "                # Pegar apenas parâmetros simples (números, strings, booleanos)\n",
    "                simple_params = {}\n",
    "                try:\n",
    "                    params = real_step.get_params() if hasattr(real_step, 'get_params') else {}\n",
    "                    for key, value in params.items():\n",
    "                        if isinstance(value, (int, float, str, bool, type(None))):\n",
    "                            simple_params[key] = value\n",
    "                        elif isinstance(value, dict):\n",
    "                            # Para dicionários, pegar apenas valores simples\n",
    "                            simple_dict = {}\n",
    "                            for k, v in value.items():\n",
    "                                if isinstance(v, (int, float, str, bool, type(None))):\n",
    "                                    simple_dict[k] = v\n",
    "                            if simple_dict:\n",
    "                                simple_params[key] = simple_dict\n",
    "                        else:\n",
    "                            # Para objetos complexos, converter para string\n",
    "                            simple_params[key] = str(type(value).__name__)\n",
    "                except:\n",
    "                    simple_params = {}\n",
    "                \n",
    "                step_info = {\n",
    "                    'algorithm': real_step.__class__.__name__,\n",
    "                    'parameters': simple_params\n",
    "                }\n",
    "                \n",
    "                # Mapear para as categorias corretas\n",
    "                if name == 'classifier':\n",
    "                    model_detail['classifier'] = step_info\n",
    "                elif name == 'data_preprocessor':\n",
    "                    model_detail['data_preprocessor'] = step_info\n",
    "                elif name == 'feature_preprocessor':\n",
    "                    model_detail['feature_preprocessor'] = step_info\n",
    "            \n",
    "            model_info['models'].append(model_detail)\n",
    "        \n",
    "        return model_info\n",
    "    \n",
    "    except Exception as e:\n",
    "        return {'error': f'Erro ao processar modelo: {str(e)}'}"
   ]
  },
  {
   "cell_type": "code",
   "execution_count": 14,
   "id": "a37be120",
   "metadata": {},
   "outputs": [],
   "source": [
    "def runAutoSklearnExperiment(with_ensemble, X_train, y_train, time_limit, tmp_path):\n",
    "    automl = autosklearn.classification.AutoSklearnClassifier(\n",
    "        time_left_for_this_task=time_limit,\n",
    "        tmp_folder=tmp_path,\n",
    "        seed=1,\n",
    "        metric=autosklearn.metrics.f1_weighted,\n",
    "        ensemble_kwargs = {'ensemble_size': 50 if with_ensemble else 1},\n",
    "    )\n",
    "    \n",
    "    automl.fit(X_train, y_train)\n",
    "    return automl"
   ]
  },
  {
   "cell_type": "code",
   "execution_count": 13,
   "id": "0c3c8bf4",
   "metadata": {},
   "outputs": [
    {
     "name": "stderr",
     "output_type": "stream",
     "text": [
      "/tmp/ipykernel_20908/2538859538.py:2: DeprecationWarning: `ensemble_size` has been deprecated, please use `ensemble_kwargs = {'ensemble_size': 50}`. Inserting `ensemble_size` into `ensemble_kwargs` for now. `ensemble_size` will be removed in auto-sklearn 0.16.\n",
      "  automl = autosklearn.classification.AutoSklearnClassifier(\n",
      "/tmp/ipykernel_20908/2538859538.py:2: DeprecationWarning: `ensemble_size` has been deprecated, please use `ensemble_kwargs = {'ensemble_size': 1}`. Inserting `ensemble_size` into `ensemble_kwargs` for now. `ensemble_size` will be removed in auto-sklearn 0.16.\n",
      "  automl = autosklearn.classification.AutoSklearnClassifier(\n"
     ]
    },
    {
     "name": "stdout",
     "output_type": "stream",
     "text": [
      "Iniciando experimento COM ensemble...\n",
      "Iniciando experimento SEM ensemble...\n"
     ]
    },
    {
     "name": "stderr",
     "output_type": "stream",
     "text": [
      "/home/joao/miniconda3/envs/as-env/lib/python3.9/site-packages/autosklearn/data/target_validator.py:187: UserWarning: Fitting transformer with a pandas series which has the dtype category. Inverse transform may not be able preserve dtype when converting to np.ndarray\n",
      "  warnings.warn(\n",
      "/home/joao/miniconda3/envs/as-env/lib/python3.9/site-packages/autosklearn/data/target_validator.py:187: UserWarning: Fitting transformer with a pandas series which has the dtype category. Inverse transform may not be able preserve dtype when converting to np.ndarray\n",
      "  warnings.warn(\n"
     ]
    },
    {
     "name": "stdout",
     "output_type": "stream",
     "text": [
      "[WARNING] [2025-07-23 20:12:23,349:smac.runhistory.runhistory2epm.RunHistory2EPM4LogCost] Got cost of smaller/equal to 0. Replace by 0.000010 since we use log cost.\n",
      "[WARNING] [2025-07-23 20:12:26,789:smac.runhistory.runhistory2epm.RunHistory2EPM4LogCost] Got cost of smaller/equal to 0. Replace by 0.000010 since we use log cost.\n",
      "[WARNING] [2025-07-23 20:12:28,742:smac.runhistory.runhistory2epm.RunHistory2EPM4LogCost] Got cost of smaller/equal to 0. Replace by 0.000010 since we use log cost.\n",
      "[WARNING] [2025-07-23 20:12:32,043:smac.runhistory.runhistory2epm.RunHistory2EPM4LogCost] Got cost of smaller/equal to 0. Replace by 0.000010 since we use log cost.\n",
      "[WARNING] [2025-07-23 20:12:35,536:smac.runhistory.runhistory2epm.RunHistory2EPM4LogCost] Got cost of smaller/equal to 0. Replace by 0.000010 since we use log cost.\n",
      "[WARNING] [2025-07-23 20:12:39,165:smac.runhistory.runhistory2epm.RunHistory2EPM4LogCost] Got cost of smaller/equal to 0. Replace by 0.000010 since we use log cost.\n",
      "[WARNING] [2025-07-23 20:12:40,975:smac.runhistory.runhistory2epm.RunHistory2EPM4LogCost] Got cost of smaller/equal to 0. Replace by 0.000010 since we use log cost.\n",
      "[WARNING] [2025-07-23 20:12:41,280:smac.runhistory.runhistory2epm.RunHistory2EPM4LogCost] Got cost of smaller/equal to 0. Replace by 0.000010 since we use log cost.\n",
      "[WARNING] [2025-07-23 20:12:41,753:smac.runhistory.runhistory2epm.RunHistory2EPM4LogCost] Got cost of smaller/equal to 0. Replace by 0.000010 since we use log cost.\n",
      "SEM ensemble concluído!\n",
      "[WARNING] [2025-07-23 20:12:47,861:smac.runhistory.runhistory2epm.RunHistory2EPM4LogCost] Got cost of smaller/equal to 0. Replace by 0.000010 since we use log cost.\n",
      "❌ Erro MongoDB: SSL handshake failed: ac-wvjp0kv-shard-00-01.qc5bvbn.mongodb.net:27017: [SSL: TLSV1_ALERT_INTERNAL_ERROR] tlsv1 alert internal error (_ssl.c:1147) (configured timeouts: socketTimeoutMS: 20000.0ms, connectTimeoutMS: 20000.0ms),SSL handshake failed: ac-wvjp0kv-shard-00-00.qc5bvbn.mongodb.net:27017: [SSL: TLSV1_ALERT_INTERNAL_ERROR] tlsv1 alert internal error (_ssl.c:1147) (configured timeouts: socketTimeoutMS: 20000.0ms, connectTimeoutMS: 20000.0ms),SSL handshake failed: ac-wvjp0kv-shard-00-02.qc5bvbn.mongodb.net:27017: [SSL: TLSV1_ALERT_INTERNAL_ERROR] tlsv1 alert internal error (_ssl.c:1147) (configured timeouts: socketTimeoutMS: 20000.0ms, connectTimeoutMS: 20000.0ms), Timeout: 30s, Topology Description: <TopologyDescription id: 68816c6fe96b1225984a878e, topology_type: ReplicaSetNoPrimary, servers: [<ServerDescription ('ac-wvjp0kv-shard-00-00.qc5bvbn.mongodb.net', 27017) server_type: Unknown, rtt: None, error=AutoReconnect('SSL handshake failed: ac-wvjp0kv-shard-00-00.qc5bvbn.mongodb.net:27017: [SSL: TLSV1_ALERT_INTERNAL_ERROR] tlsv1 alert internal error (_ssl.c:1147) (configured timeouts: socketTimeoutMS: 20000.0ms, connectTimeoutMS: 20000.0ms)')>, <ServerDescription ('ac-wvjp0kv-shard-00-01.qc5bvbn.mongodb.net', 27017) server_type: Unknown, rtt: None, error=AutoReconnect('SSL handshake failed: ac-wvjp0kv-shard-00-01.qc5bvbn.mongodb.net:27017: [SSL: TLSV1_ALERT_INTERNAL_ERROR] tlsv1 alert internal error (_ssl.c:1147) (configured timeouts: socketTimeoutMS: 20000.0ms, connectTimeoutMS: 20000.0ms)')>, <ServerDescription ('ac-wvjp0kv-shard-00-02.qc5bvbn.mongodb.net', 27017) server_type: Unknown, rtt: None, error=AutoReconnect('SSL handshake failed: ac-wvjp0kv-shard-00-02.qc5bvbn.mongodb.net:27017: [SSL: TLSV1_ALERT_INTERNAL_ERROR] tlsv1 alert internal error (_ssl.c:1147) (configured timeouts: socketTimeoutMS: 20000.0ms, connectTimeoutMS: 20000.0ms)')>]>\n",
      "COM ensemble concluído!\n",
      "❌ Erro MongoDB: SSL handshake failed: ac-wvjp0kv-shard-00-01.qc5bvbn.mongodb.net:27017: [SSL: TLSV1_ALERT_INTERNAL_ERROR] tlsv1 alert internal error (_ssl.c:1147) (configured timeouts: socketTimeoutMS: 20000.0ms, connectTimeoutMS: 20000.0ms),SSL handshake failed: ac-wvjp0kv-shard-00-00.qc5bvbn.mongodb.net:27017: [SSL: TLSV1_ALERT_INTERNAL_ERROR] tlsv1 alert internal error (_ssl.c:1147) (configured timeouts: socketTimeoutMS: 20000.0ms, connectTimeoutMS: 20000.0ms),SSL handshake failed: ac-wvjp0kv-shard-00-02.qc5bvbn.mongodb.net:27017: [SSL: TLSV1_ALERT_INTERNAL_ERROR] tlsv1 alert internal error (_ssl.c:1147) (configured timeouts: socketTimeoutMS: 20000.0ms, connectTimeoutMS: 20000.0ms), Timeout: 30s, Topology Description: <TopologyDescription id: 68816c8ee96b1225984a8790, topology_type: ReplicaSetNoPrimary, servers: [<ServerDescription ('ac-wvjp0kv-shard-00-00.qc5bvbn.mongodb.net', 27017) server_type: Unknown, rtt: None, error=AutoReconnect('SSL handshake failed: ac-wvjp0kv-shard-00-00.qc5bvbn.mongodb.net:27017: [SSL: TLSV1_ALERT_INTERNAL_ERROR] tlsv1 alert internal error (_ssl.c:1147) (configured timeouts: socketTimeoutMS: 20000.0ms, connectTimeoutMS: 20000.0ms)')>, <ServerDescription ('ac-wvjp0kv-shard-00-01.qc5bvbn.mongodb.net', 27017) server_type: Unknown, rtt: None, error=AutoReconnect('SSL handshake failed: ac-wvjp0kv-shard-00-01.qc5bvbn.mongodb.net:27017: [SSL: TLSV1_ALERT_INTERNAL_ERROR] tlsv1 alert internal error (_ssl.c:1147) (configured timeouts: socketTimeoutMS: 20000.0ms, connectTimeoutMS: 20000.0ms)')>, <ServerDescription ('ac-wvjp0kv-shard-00-02.qc5bvbn.mongodb.net', 27017) server_type: Unknown, rtt: None, error=AutoReconnect('SSL handshake failed: ac-wvjp0kv-shard-00-02.qc5bvbn.mongodb.net:27017: [SSL: TLSV1_ALERT_INTERNAL_ERROR] tlsv1 alert internal error (_ssl.c:1147) (configured timeouts: socketTimeoutMS: 20000.0ms, connectTimeoutMS: 20000.0ms)')>]>\n",
      "Todos os experimentos concluídos em 109.64 segundos\n"
     ]
    }
   ],
   "source": [
    "start_time = time.time()\n",
    "\n",
    "results = {}\n",
    "\n",
    "def process_result_mongodb(experiment_name, automl_model, dataset_name):\n",
    "    \"\"\"Processa o resultado e salva no MongoDB\"\"\"\n",
    "    print(f\"{experiment_name} concluído!\")\n",
    "    \n",
    "    predictions = automl_model.predict(X_test)\n",
    "    accuracy = sklearn.metrics.accuracy_score(y_test, predictions)\n",
    "    \n",
    "    precision = sklearn.metrics.precision_score(y_test, predictions, average='weighted')\n",
    "    recall = sklearn.metrics.recall_score(y_test, predictions, average='weighted')\n",
    "    f1 = sklearn.metrics.f1_score(y_test, predictions, average='weighted')\n",
    "    \n",
    "    experiment_document = {\n",
    "        'timestamp': datetime.now(),\n",
    "        'dataset': dataset_name,\n",
    "        'with_ensemble': experiment_name == \"COM ensemble\",\n",
    "        'metrics': {\n",
    "            'accuracy': float(accuracy),\n",
    "            'precision': float(precision),\n",
    "            'recall': float(recall),\n",
    "            'f1_score': float(f1)\n",
    "        },\n",
    "        'model': serialize_model_info(automl_model),\n",
    "    }\n",
    "    \n",
    "    # Salva no MongoDB\n",
    "    try:\n",
    "        collection = get_mongo_connection()\n",
    "        result = collection.insert_one(experiment_document)\n",
    "        print(f\"✅ Salvo no MongoDB: {result.inserted_id}\")\n",
    "    except Exception as e:\n",
    "        print(f\"❌ Erro MongoDB: {e}\")\n",
    "    \n",
    "    # Mantém local para análises\n",
    "    results[experiment_name] = {\n",
    "        'model': automl_model,\n",
    "        'accuracy': accuracy,\n",
    "        'predictions': predictions\n",
    "    }\n",
    "\n",
    "with concurrent.futures.ThreadPoolExecutor(max_workers=2) as executor:\n",
    "    print(\"Iniciando experimento COM ensemble...\")\n",
    "    future_with = executor.submit(\n",
    "        runAutoSklearnExperiment,\n",
    "        True,  # COM ensemble\n",
    "        X_train, y_train, time_limit, tmp_path / 'with_ensemble'\n",
    "    )\n",
    "    \n",
    "    print(\"Iniciando experimento SEM ensemble...\")\n",
    "    future_without = executor.submit(\n",
    "        runAutoSklearnExperiment,\n",
    "        False,  # SEM ensemble\n",
    "        X_train, y_train, time_limit, tmp_path / 'without_ensemble'\n",
    "    )\n",
    "    \n",
    "    for future in concurrent.futures.as_completed([future_with, future_without]):\n",
    "        if future == future_with:\n",
    "            automl_with_ensemble = future.result()\n",
    "            process_result_mongodb(\"COM ensemble\", automl_with_ensemble, dataset_name)\n",
    "        else:\n",
    "            automl_without_ensemble = future.result()\n",
    "            process_result_mongodb(\"SEM ensemble\", automl_without_ensemble, dataset_name)\n",
    "\n",
    "total_time = time.time() - start_time\n",
    "print(f\"Todos os experimentos concluídos em {total_time:.2f} segundos\")"
   ]
  }
 ],
 "metadata": {
  "kernelspec": {
   "display_name": "as-env",
   "language": "python",
   "name": "python3"
  },
  "language_info": {
   "codemirror_mode": {
    "name": "ipython",
    "version": 3
   },
   "file_extension": ".py",
   "mimetype": "text/x-python",
   "name": "python",
   "nbconvert_exporter": "python",
   "pygments_lexer": "ipython3",
   "version": "3.9.23"
  }
 },
 "nbformat": 4,
 "nbformat_minor": 5
}
